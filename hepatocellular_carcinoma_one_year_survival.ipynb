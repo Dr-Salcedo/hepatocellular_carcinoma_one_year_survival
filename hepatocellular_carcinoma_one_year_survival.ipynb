{
 "cells": [
  {
   "cell_type": "markdown",
   "metadata": {},
   "source": [
    "# Predicting One Year Survival of Patients with Hepatocellular Carcinoma: A Logistic Regression Model"
   ]
  },
  {
   "cell_type": "markdown",
   "metadata": {},
   "source": [
    "### <img src=\"liver_2.png\" width=\"400\">"
   ]
  },
  {
   "cell_type": "markdown",
   "metadata": {},
   "source": [
    "## Outline\n",
    "   - ### Background Information\n",
    "   - ### Goal\n",
    "   - ### Libraries to Import\n",
    "   - ### Data Exploration/Data Wrangling\n",
    "   - ### Pandas Profiling Package\n",
    "   - ### Feature Selection\n",
    "   - ### Model Buiding/Tuning\n",
    "   - ### Conclusions\n",
    "\n",
    "\n"
   ]
  },
  {
   "cell_type": "markdown",
   "metadata": {},
   "source": [
    "- ## Background Information\n"
   ]
  },
  {
   "cell_type": "markdown",
   "metadata": {},
   "source": [
    "..."
   ]
  },
  {
   "cell_type": "markdown",
   "metadata": {},
   "source": [
    " - ## Goal"
   ]
  },
  {
   "cell_type": "markdown",
   "metadata": {},
   "source": [
    "..."
   ]
  },
  {
   "cell_type": "markdown",
   "metadata": {},
   "source": [
    "- ## Libraries to Import\n"
   ]
  },
  {
   "cell_type": "code",
   "execution_count": null,
   "metadata": {
    "scrolled": true
   },
   "outputs": [],
   "source": [
    "!pip install fancyimpute"
   ]
  },
  {
   "cell_type": "code",
   "execution_count": null,
   "metadata": {},
   "outputs": [],
   "source": [
    "!pip install imblearn\n"
   ]
  },
  {
   "cell_type": "code",
   "execution_count": 47,
   "metadata": {},
   "outputs": [],
   "source": [
    "import math\n",
    "import random\n",
    "import numpy as np\n",
    "import pandas as pd\n",
    "import seaborn as sns\n",
    "import pandas_profiling\n",
    "from scipy import stats\n",
    "import statsmodels as sm\n",
    "import matplotlib.pyplot as plt\n",
    "from sklearn.cluster import KMeans\n",
    "import sklearn.preprocessing as preprocessing\n",
    "from sklearn.preprocessing import LabelEncoder\n",
    "from sklearn.model_selection import GridSearchCV\n",
    "from sklearn.linear_model import LogisticRegression\n",
    "from sklearn.tree import DecisionTreeClassifier\n",
    "from sklearn.ensemble import BaggingClassifier, RandomForestClassifier\n",
    "from sklearn.metrics import confusion_matrix, precision_recall_curve, auc, roc_auc_score, roc_curve, recall_score, classification_report\n",
    "from sklearn.preprocessing import StandardScaler, RobustScaler, MinMaxScaler\n",
    "from sklearn.metrics import precision_score, recall_score, accuracy_score, f1_score\n",
    "from sklearn.metrics import roc_curve, accuracy_score, roc_auc_score, classification_report, r2_score, make_scorer, roc_curve, auc\n",
    "from sklearn.model_selection import cross_validate, train_test_split, cross_val_score, StratifiedKFold, KFold, cross_val_predict\n",
    "\n",
    "\n",
    "%matplotlib inline"
   ]
  },
  {
   "cell_type": "markdown",
   "metadata": {},
   "source": [
    "- ## Data Exploration/Data Wrangling\n"
   ]
  },
  {
   "cell_type": "code",
   "execution_count": 48,
   "metadata": {},
   "outputs": [
    {
     "data": {
      "text/html": [
       "<div>\n",
       "<style scoped>\n",
       "    .dataframe tbody tr th:only-of-type {\n",
       "        vertical-align: middle;\n",
       "    }\n",
       "\n",
       "    .dataframe tbody tr th {\n",
       "        vertical-align: top;\n",
       "    }\n",
       "\n",
       "    .dataframe thead th {\n",
       "        text-align: right;\n",
       "    }\n",
       "</style>\n",
       "<table border=\"1\" class=\"dataframe\">\n",
       "  <thead>\n",
       "    <tr style=\"text-align: right;\">\n",
       "      <th></th>\n",
       "      <th>Gender</th>\n",
       "      <th>Symptoms</th>\n",
       "      <th>Alcohol</th>\n",
       "      <th>HBsAg</th>\n",
       "      <th>HBeAg</th>\n",
       "      <th>HBcAb</th>\n",
       "      <th>HCVAb</th>\n",
       "      <th>Cirrhosis</th>\n",
       "      <th>Endemic</th>\n",
       "      <th>Smoking</th>\n",
       "      <th>...</th>\n",
       "      <th>ALP</th>\n",
       "      <th>TP</th>\n",
       "      <th>Creatinine</th>\n",
       "      <th>Nodule</th>\n",
       "      <th>Major_Dim</th>\n",
       "      <th>Dir_Bil</th>\n",
       "      <th>Iron</th>\n",
       "      <th>Sat</th>\n",
       "      <th>Ferritin</th>\n",
       "      <th>Class</th>\n",
       "    </tr>\n",
       "  </thead>\n",
       "  <tbody>\n",
       "    <tr>\n",
       "      <th>0</th>\n",
       "      <td>1</td>\n",
       "      <td>0</td>\n",
       "      <td>1</td>\n",
       "      <td>0</td>\n",
       "      <td>0</td>\n",
       "      <td>0</td>\n",
       "      <td>0</td>\n",
       "      <td>1</td>\n",
       "      <td>0</td>\n",
       "      <td>1</td>\n",
       "      <td>...</td>\n",
       "      <td>150</td>\n",
       "      <td>7.1</td>\n",
       "      <td>0.7</td>\n",
       "      <td>1</td>\n",
       "      <td>3.5</td>\n",
       "      <td>0.5</td>\n",
       "      <td>?</td>\n",
       "      <td>?</td>\n",
       "      <td>?</td>\n",
       "      <td>1</td>\n",
       "    </tr>\n",
       "    <tr>\n",
       "      <th>1</th>\n",
       "      <td>0</td>\n",
       "      <td>?</td>\n",
       "      <td>0</td>\n",
       "      <td>0</td>\n",
       "      <td>0</td>\n",
       "      <td>0</td>\n",
       "      <td>1</td>\n",
       "      <td>1</td>\n",
       "      <td>?</td>\n",
       "      <td>?</td>\n",
       "      <td>...</td>\n",
       "      <td>?</td>\n",
       "      <td>?</td>\n",
       "      <td>?</td>\n",
       "      <td>1</td>\n",
       "      <td>1.8</td>\n",
       "      <td>?</td>\n",
       "      <td>?</td>\n",
       "      <td>?</td>\n",
       "      <td>?</td>\n",
       "      <td>1</td>\n",
       "    </tr>\n",
       "    <tr>\n",
       "      <th>2</th>\n",
       "      <td>1</td>\n",
       "      <td>0</td>\n",
       "      <td>1</td>\n",
       "      <td>1</td>\n",
       "      <td>0</td>\n",
       "      <td>1</td>\n",
       "      <td>0</td>\n",
       "      <td>1</td>\n",
       "      <td>0</td>\n",
       "      <td>1</td>\n",
       "      <td>...</td>\n",
       "      <td>109</td>\n",
       "      <td>7</td>\n",
       "      <td>2.1</td>\n",
       "      <td>5</td>\n",
       "      <td>13</td>\n",
       "      <td>0.1</td>\n",
       "      <td>28</td>\n",
       "      <td>6</td>\n",
       "      <td>16</td>\n",
       "      <td>1</td>\n",
       "    </tr>\n",
       "    <tr>\n",
       "      <th>3</th>\n",
       "      <td>1</td>\n",
       "      <td>1</td>\n",
       "      <td>1</td>\n",
       "      <td>0</td>\n",
       "      <td>0</td>\n",
       "      <td>0</td>\n",
       "      <td>0</td>\n",
       "      <td>1</td>\n",
       "      <td>0</td>\n",
       "      <td>1</td>\n",
       "      <td>...</td>\n",
       "      <td>174</td>\n",
       "      <td>8.1</td>\n",
       "      <td>1.11</td>\n",
       "      <td>2</td>\n",
       "      <td>15.7</td>\n",
       "      <td>0.2</td>\n",
       "      <td>?</td>\n",
       "      <td>?</td>\n",
       "      <td>?</td>\n",
       "      <td>0</td>\n",
       "    </tr>\n",
       "    <tr>\n",
       "      <th>4</th>\n",
       "      <td>1</td>\n",
       "      <td>1</td>\n",
       "      <td>1</td>\n",
       "      <td>1</td>\n",
       "      <td>0</td>\n",
       "      <td>1</td>\n",
       "      <td>0</td>\n",
       "      <td>1</td>\n",
       "      <td>0</td>\n",
       "      <td>1</td>\n",
       "      <td>...</td>\n",
       "      <td>109</td>\n",
       "      <td>6.9</td>\n",
       "      <td>1.8</td>\n",
       "      <td>1</td>\n",
       "      <td>9</td>\n",
       "      <td>?</td>\n",
       "      <td>59</td>\n",
       "      <td>15</td>\n",
       "      <td>22</td>\n",
       "      <td>1</td>\n",
       "    </tr>\n",
       "  </tbody>\n",
       "</table>\n",
       "<p>5 rows × 50 columns</p>\n",
       "</div>"
      ],
      "text/plain": [
       "   Gender Symptoms  Alcohol HBsAg HBeAg HBcAb HCVAb  Cirrhosis Endemic  \\\n",
       "0       1        0        1     0     0     0     0          1       0   \n",
       "1       0        ?        0     0     0     0     1          1       ?   \n",
       "2       1        0        1     1     0     1     0          1       0   \n",
       "3       1        1        1     0     0     0     0          1       0   \n",
       "4       1        1        1     1     0     1     0          1       0   \n",
       "\n",
       "  Smoking  ...  ALP   TP Creatinine Nodule Major_Dim Dir_Bil Iron Sat  \\\n",
       "0       1  ...  150  7.1        0.7      1       3.5     0.5    ?   ?   \n",
       "1       ?  ...    ?    ?          ?      1       1.8       ?    ?   ?   \n",
       "2       1  ...  109    7        2.1      5        13     0.1   28   6   \n",
       "3       1  ...  174  8.1       1.11      2      15.7     0.2    ?   ?   \n",
       "4       1  ...  109  6.9        1.8      1         9       ?   59  15   \n",
       "\n",
       "  Ferritin Class  \n",
       "0        ?     1  \n",
       "1        ?     1  \n",
       "2       16     1  \n",
       "3        ?     0  \n",
       "4       22     1  \n",
       "\n",
       "[5 rows x 50 columns]"
      ]
     },
     "execution_count": 48,
     "metadata": {},
     "output_type": "execute_result"
    }
   ],
   "source": [
    "###preview data\n",
    "raw_hcc_data=pd.read_csv(\"hcc_data.csv\")\n",
    "raw_hcc_data.head()"
   ]
  },
  {
   "cell_type": "code",
   "execution_count": 49,
   "metadata": {},
   "outputs": [
    {
     "data": {
      "text/plain": [
       "(165, 50)"
      ]
     },
     "execution_count": 49,
     "metadata": {},
     "output_type": "execute_result"
    }
   ],
   "source": [
    "#examine dataset shape\n",
    "raw_hcc_data.shape\n"
   ]
  },
  {
   "cell_type": "code",
   "execution_count": 50,
   "metadata": {
    "scrolled": false
   },
   "outputs": [
    {
     "data": {
      "text/html": [
       "<div>\n",
       "<style scoped>\n",
       "    .dataframe tbody tr th:only-of-type {\n",
       "        vertical-align: middle;\n",
       "    }\n",
       "\n",
       "    .dataframe tbody tr th {\n",
       "        vertical-align: top;\n",
       "    }\n",
       "\n",
       "    .dataframe thead th {\n",
       "        text-align: right;\n",
       "    }\n",
       "</style>\n",
       "<table border=\"1\" class=\"dataframe\">\n",
       "  <thead>\n",
       "    <tr style=\"text-align: right;\">\n",
       "      <th></th>\n",
       "      <th>Gender</th>\n",
       "      <th>Alcohol</th>\n",
       "      <th>Cirrhosis</th>\n",
       "      <th>Age</th>\n",
       "      <th>PS</th>\n",
       "      <th>Class</th>\n",
       "    </tr>\n",
       "  </thead>\n",
       "  <tbody>\n",
       "    <tr>\n",
       "      <th>count</th>\n",
       "      <td>165.000000</td>\n",
       "      <td>165.000000</td>\n",
       "      <td>165.000000</td>\n",
       "      <td>165.000000</td>\n",
       "      <td>165.000000</td>\n",
       "      <td>165.000000</td>\n",
       "    </tr>\n",
       "    <tr>\n",
       "      <th>mean</th>\n",
       "      <td>0.806061</td>\n",
       "      <td>0.739394</td>\n",
       "      <td>0.903030</td>\n",
       "      <td>64.690909</td>\n",
       "      <td>1.018182</td>\n",
       "      <td>0.618182</td>\n",
       "    </tr>\n",
       "    <tr>\n",
       "      <th>std</th>\n",
       "      <td>0.396586</td>\n",
       "      <td>0.440302</td>\n",
       "      <td>0.296817</td>\n",
       "      <td>13.319534</td>\n",
       "      <td>1.181528</td>\n",
       "      <td>0.487311</td>\n",
       "    </tr>\n",
       "    <tr>\n",
       "      <th>min</th>\n",
       "      <td>0.000000</td>\n",
       "      <td>0.000000</td>\n",
       "      <td>0.000000</td>\n",
       "      <td>20.000000</td>\n",
       "      <td>0.000000</td>\n",
       "      <td>0.000000</td>\n",
       "    </tr>\n",
       "    <tr>\n",
       "      <th>25%</th>\n",
       "      <td>1.000000</td>\n",
       "      <td>0.000000</td>\n",
       "      <td>1.000000</td>\n",
       "      <td>57.000000</td>\n",
       "      <td>0.000000</td>\n",
       "      <td>0.000000</td>\n",
       "    </tr>\n",
       "    <tr>\n",
       "      <th>50%</th>\n",
       "      <td>1.000000</td>\n",
       "      <td>1.000000</td>\n",
       "      <td>1.000000</td>\n",
       "      <td>66.000000</td>\n",
       "      <td>1.000000</td>\n",
       "      <td>1.000000</td>\n",
       "    </tr>\n",
       "    <tr>\n",
       "      <th>75%</th>\n",
       "      <td>1.000000</td>\n",
       "      <td>1.000000</td>\n",
       "      <td>1.000000</td>\n",
       "      <td>74.000000</td>\n",
       "      <td>2.000000</td>\n",
       "      <td>1.000000</td>\n",
       "    </tr>\n",
       "    <tr>\n",
       "      <th>max</th>\n",
       "      <td>1.000000</td>\n",
       "      <td>1.000000</td>\n",
       "      <td>1.000000</td>\n",
       "      <td>93.000000</td>\n",
       "      <td>4.000000</td>\n",
       "      <td>1.000000</td>\n",
       "    </tr>\n",
       "  </tbody>\n",
       "</table>\n",
       "</div>"
      ],
      "text/plain": [
       "           Gender     Alcohol   Cirrhosis         Age          PS       Class\n",
       "count  165.000000  165.000000  165.000000  165.000000  165.000000  165.000000\n",
       "mean     0.806061    0.739394    0.903030   64.690909    1.018182    0.618182\n",
       "std      0.396586    0.440302    0.296817   13.319534    1.181528    0.487311\n",
       "min      0.000000    0.000000    0.000000   20.000000    0.000000    0.000000\n",
       "25%      1.000000    0.000000    1.000000   57.000000    0.000000    0.000000\n",
       "50%      1.000000    1.000000    1.000000   66.000000    1.000000    1.000000\n",
       "75%      1.000000    1.000000    1.000000   74.000000    2.000000    1.000000\n",
       "max      1.000000    1.000000    1.000000   93.000000    4.000000    1.000000"
      ]
     },
     "execution_count": 50,
     "metadata": {},
     "output_type": "execute_result"
    }
   ],
   "source": [
    "raw_hcc_data.describe()"
   ]
  },
  {
   "cell_type": "code",
   "execution_count": null,
   "metadata": {},
   "outputs": [],
   "source": []
  },
  {
   "cell_type": "code",
   "execution_count": 51,
   "metadata": {
    "scrolled": true
   },
   "outputs": [
    {
     "name": "stdout",
     "output_type": "stream",
     "text": [
      "<class 'pandas.core.frame.DataFrame'>\n",
      "RangeIndex: 165 entries, 0 to 164\n",
      "Data columns (total 50 columns):\n",
      "Gender            165 non-null int64\n",
      "Symptoms          165 non-null object\n",
      "Alcohol           165 non-null int64\n",
      "HBsAg             165 non-null object\n",
      "HBeAg             165 non-null object\n",
      "HBcAb             165 non-null object\n",
      "HCVAb             165 non-null object\n",
      "Cirrhosis         165 non-null int64\n",
      "Endemic           165 non-null object\n",
      "Smoking           165 non-null object\n",
      "Diabetes          165 non-null object\n",
      "Obesity           165 non-null object\n",
      "Hemochro          165 non-null object\n",
      "AHT               165 non-null object\n",
      "CRI               165 non-null object\n",
      "HIV               165 non-null object\n",
      "NASH              165 non-null object\n",
      "Varices           165 non-null object\n",
      "Spleno            165 non-null object\n",
      "PHT               165 non-null object\n",
      "PVT               165 non-null object\n",
      "Metastasis        165 non-null object\n",
      "Hallmark          165 non-null object\n",
      "Age               165 non-null int64\n",
      "Grams_day         165 non-null object\n",
      "Packs_year        165 non-null object\n",
      "PS                165 non-null int64\n",
      "Encephalopathy    165 non-null object\n",
      "Ascites           165 non-null object\n",
      "INR               165 non-null object\n",
      "AFP               165 non-null object\n",
      "Hemoglobin        165 non-null object\n",
      "MCV               165 non-null object\n",
      "Leucocytes        165 non-null object\n",
      "Platelets         165 non-null object\n",
      "Albumin           165 non-null object\n",
      "Total_Bil         165 non-null object\n",
      "ALT               165 non-null object\n",
      "AST               165 non-null object\n",
      "GGT               165 non-null object\n",
      "ALP               165 non-null object\n",
      "TP                165 non-null object\n",
      "Creatinine        165 non-null object\n",
      "Nodule            165 non-null object\n",
      "Major_Dim         165 non-null object\n",
      "Dir_Bil           165 non-null object\n",
      "Iron              165 non-null object\n",
      "Sat               165 non-null object\n",
      "Ferritin          165 non-null object\n",
      "Class             165 non-null int64\n",
      "dtypes: int64(6), object(44)\n",
      "memory usage: 64.5+ KB\n"
     ]
    }
   ],
   "source": [
    "raw_hcc_data.info()"
   ]
  },
  {
   "cell_type": "code",
   "execution_count": 52,
   "metadata": {},
   "outputs": [
    {
     "data": {
      "text/plain": [
       "Gender            0.0\n",
       "Symptoms          0.0\n",
       "Alcohol           0.0\n",
       "HBsAg             0.0\n",
       "HBeAg             0.0\n",
       "HBcAb             0.0\n",
       "HCVAb             0.0\n",
       "Cirrhosis         0.0\n",
       "Endemic           0.0\n",
       "Smoking           0.0\n",
       "Diabetes          0.0\n",
       "Obesity           0.0\n",
       "Hemochro          0.0\n",
       "AHT               0.0\n",
       "CRI               0.0\n",
       "HIV               0.0\n",
       "NASH              0.0\n",
       "Varices           0.0\n",
       "Spleno            0.0\n",
       "PHT               0.0\n",
       "PVT               0.0\n",
       "Metastasis        0.0\n",
       "Hallmark          0.0\n",
       "Age               0.0\n",
       "Grams_day         0.0\n",
       "Packs_year        0.0\n",
       "PS                0.0\n",
       "Encephalopathy    0.0\n",
       "Ascites           0.0\n",
       "INR               0.0\n",
       "AFP               0.0\n",
       "Hemoglobin        0.0\n",
       "MCV               0.0\n",
       "Leucocytes        0.0\n",
       "Platelets         0.0\n",
       "Albumin           0.0\n",
       "Total_Bil         0.0\n",
       "ALT               0.0\n",
       "AST               0.0\n",
       "GGT               0.0\n",
       "ALP               0.0\n",
       "TP                0.0\n",
       "Creatinine        0.0\n",
       "Nodule            0.0\n",
       "Major_Dim         0.0\n",
       "Dir_Bil           0.0\n",
       "Iron              0.0\n",
       "Sat               0.0\n",
       "Ferritin          0.0\n",
       "Class             0.0\n",
       "dtype: float64"
      ]
     },
     "execution_count": 52,
     "metadata": {},
     "output_type": "execute_result"
    }
   ],
   "source": [
    "raw_hcc_data.isna().mean().round(4)"
   ]
  },
  {
   "cell_type": "code",
   "execution_count": 53,
   "metadata": {},
   "outputs": [],
   "source": [
    "# replace all \"?\" in the dataset with 0\n",
    "zeroed_hcc_data=raw_hcc_data.replace(\"?\", 0)"
   ]
  },
  {
   "cell_type": "code",
   "execution_count": 54,
   "metadata": {},
   "outputs": [
    {
     "data": {
      "text/html": [
       "<div>\n",
       "<style scoped>\n",
       "    .dataframe tbody tr th:only-of-type {\n",
       "        vertical-align: middle;\n",
       "    }\n",
       "\n",
       "    .dataframe tbody tr th {\n",
       "        vertical-align: top;\n",
       "    }\n",
       "\n",
       "    .dataframe thead th {\n",
       "        text-align: right;\n",
       "    }\n",
       "</style>\n",
       "<table border=\"1\" class=\"dataframe\">\n",
       "  <thead>\n",
       "    <tr style=\"text-align: right;\">\n",
       "      <th></th>\n",
       "      <th>Gender</th>\n",
       "      <th>Symptoms</th>\n",
       "      <th>Alcohol</th>\n",
       "      <th>HBsAg</th>\n",
       "      <th>HBeAg</th>\n",
       "      <th>HBcAb</th>\n",
       "      <th>HCVAb</th>\n",
       "      <th>Cirrhosis</th>\n",
       "      <th>Endemic</th>\n",
       "      <th>Smoking</th>\n",
       "      <th>...</th>\n",
       "      <th>ALP</th>\n",
       "      <th>TP</th>\n",
       "      <th>Creatinine</th>\n",
       "      <th>Nodule</th>\n",
       "      <th>Major_Dim</th>\n",
       "      <th>Dir_Bil</th>\n",
       "      <th>Iron</th>\n",
       "      <th>Sat</th>\n",
       "      <th>Ferritin</th>\n",
       "      <th>Class</th>\n",
       "    </tr>\n",
       "  </thead>\n",
       "  <tbody>\n",
       "    <tr>\n",
       "      <th>0</th>\n",
       "      <td>1</td>\n",
       "      <td>0</td>\n",
       "      <td>1</td>\n",
       "      <td>0</td>\n",
       "      <td>0</td>\n",
       "      <td>0</td>\n",
       "      <td>0</td>\n",
       "      <td>1</td>\n",
       "      <td>0</td>\n",
       "      <td>1</td>\n",
       "      <td>...</td>\n",
       "      <td>150</td>\n",
       "      <td>7.1</td>\n",
       "      <td>0.7</td>\n",
       "      <td>1</td>\n",
       "      <td>3.5</td>\n",
       "      <td>0.5</td>\n",
       "      <td>0</td>\n",
       "      <td>0</td>\n",
       "      <td>0</td>\n",
       "      <td>1</td>\n",
       "    </tr>\n",
       "    <tr>\n",
       "      <th>1</th>\n",
       "      <td>0</td>\n",
       "      <td>0</td>\n",
       "      <td>0</td>\n",
       "      <td>0</td>\n",
       "      <td>0</td>\n",
       "      <td>0</td>\n",
       "      <td>1</td>\n",
       "      <td>1</td>\n",
       "      <td>0</td>\n",
       "      <td>0</td>\n",
       "      <td>...</td>\n",
       "      <td>0</td>\n",
       "      <td>0</td>\n",
       "      <td>0</td>\n",
       "      <td>1</td>\n",
       "      <td>1.8</td>\n",
       "      <td>0</td>\n",
       "      <td>0</td>\n",
       "      <td>0</td>\n",
       "      <td>0</td>\n",
       "      <td>1</td>\n",
       "    </tr>\n",
       "    <tr>\n",
       "      <th>2</th>\n",
       "      <td>1</td>\n",
       "      <td>0</td>\n",
       "      <td>1</td>\n",
       "      <td>1</td>\n",
       "      <td>0</td>\n",
       "      <td>1</td>\n",
       "      <td>0</td>\n",
       "      <td>1</td>\n",
       "      <td>0</td>\n",
       "      <td>1</td>\n",
       "      <td>...</td>\n",
       "      <td>109</td>\n",
       "      <td>7</td>\n",
       "      <td>2.1</td>\n",
       "      <td>5</td>\n",
       "      <td>13</td>\n",
       "      <td>0.1</td>\n",
       "      <td>28</td>\n",
       "      <td>6</td>\n",
       "      <td>16</td>\n",
       "      <td>1</td>\n",
       "    </tr>\n",
       "    <tr>\n",
       "      <th>3</th>\n",
       "      <td>1</td>\n",
       "      <td>1</td>\n",
       "      <td>1</td>\n",
       "      <td>0</td>\n",
       "      <td>0</td>\n",
       "      <td>0</td>\n",
       "      <td>0</td>\n",
       "      <td>1</td>\n",
       "      <td>0</td>\n",
       "      <td>1</td>\n",
       "      <td>...</td>\n",
       "      <td>174</td>\n",
       "      <td>8.1</td>\n",
       "      <td>1.11</td>\n",
       "      <td>2</td>\n",
       "      <td>15.7</td>\n",
       "      <td>0.2</td>\n",
       "      <td>0</td>\n",
       "      <td>0</td>\n",
       "      <td>0</td>\n",
       "      <td>0</td>\n",
       "    </tr>\n",
       "    <tr>\n",
       "      <th>4</th>\n",
       "      <td>1</td>\n",
       "      <td>1</td>\n",
       "      <td>1</td>\n",
       "      <td>1</td>\n",
       "      <td>0</td>\n",
       "      <td>1</td>\n",
       "      <td>0</td>\n",
       "      <td>1</td>\n",
       "      <td>0</td>\n",
       "      <td>1</td>\n",
       "      <td>...</td>\n",
       "      <td>109</td>\n",
       "      <td>6.9</td>\n",
       "      <td>1.8</td>\n",
       "      <td>1</td>\n",
       "      <td>9</td>\n",
       "      <td>0</td>\n",
       "      <td>59</td>\n",
       "      <td>15</td>\n",
       "      <td>22</td>\n",
       "      <td>1</td>\n",
       "    </tr>\n",
       "  </tbody>\n",
       "</table>\n",
       "<p>5 rows × 50 columns</p>\n",
       "</div>"
      ],
      "text/plain": [
       "   Gender Symptoms  Alcohol HBsAg HBeAg HBcAb HCVAb  Cirrhosis Endemic  \\\n",
       "0       1        0        1     0     0     0     0          1       0   \n",
       "1       0        0        0     0     0     0     1          1       0   \n",
       "2       1        0        1     1     0     1     0          1       0   \n",
       "3       1        1        1     0     0     0     0          1       0   \n",
       "4       1        1        1     1     0     1     0          1       0   \n",
       "\n",
       "  Smoking  ...  ALP   TP Creatinine Nodule Major_Dim Dir_Bil Iron Sat  \\\n",
       "0       1  ...  150  7.1        0.7      1       3.5     0.5    0   0   \n",
       "1       0  ...    0    0          0      1       1.8       0    0   0   \n",
       "2       1  ...  109    7        2.1      5        13     0.1   28   6   \n",
       "3       1  ...  174  8.1       1.11      2      15.7     0.2    0   0   \n",
       "4       1  ...  109  6.9        1.8      1         9       0   59  15   \n",
       "\n",
       "  Ferritin Class  \n",
       "0        0     1  \n",
       "1        0     1  \n",
       "2       16     1  \n",
       "3        0     0  \n",
       "4       22     1  \n",
       "\n",
       "[5 rows x 50 columns]"
      ]
     },
     "execution_count": 54,
     "metadata": {},
     "output_type": "execute_result"
    }
   ],
   "source": [
    "zeroed_hcc_data.head()"
   ]
  },
  {
   "cell_type": "code",
   "execution_count": 55,
   "metadata": {},
   "outputs": [
    {
     "data": {
      "text/plain": [
       "Gender            0\n",
       "Symptoms          0\n",
       "Alcohol           0\n",
       "HBsAg             0\n",
       "HBeAg             0\n",
       "HBcAb             0\n",
       "HCVAb             0\n",
       "Cirrhosis         0\n",
       "Endemic           0\n",
       "Smoking           0\n",
       "Diabetes          0\n",
       "Obesity           0\n",
       "Hemochro          0\n",
       "AHT               0\n",
       "CRI               0\n",
       "HIV               0\n",
       "NASH              0\n",
       "Varices           0\n",
       "Spleno            0\n",
       "PHT               0\n",
       "PVT               0\n",
       "Metastasis        0\n",
       "Hallmark          0\n",
       "Age               0\n",
       "Grams_day         0\n",
       "Packs_year        0\n",
       "PS                0\n",
       "Encephalopathy    0\n",
       "Ascites           0\n",
       "INR               0\n",
       "AFP               0\n",
       "Hemoglobin        0\n",
       "MCV               0\n",
       "Leucocytes        0\n",
       "Platelets         0\n",
       "Albumin           0\n",
       "Total_Bil         0\n",
       "ALT               0\n",
       "AST               0\n",
       "GGT               0\n",
       "ALP               0\n",
       "TP                0\n",
       "Creatinine        0\n",
       "Nodule            0\n",
       "Major_Dim         0\n",
       "Dir_Bil           0\n",
       "Iron              0\n",
       "Sat               0\n",
       "Ferritin          0\n",
       "Class             0\n",
       "dtype: int64"
      ]
     },
     "execution_count": 55,
     "metadata": {},
     "output_type": "execute_result"
    }
   ],
   "source": [
    "zeroed_hcc_data.isnull().sum()"
   ]
  },
  {
   "cell_type": "code",
   "execution_count": 56,
   "metadata": {
    "scrolled": false
   },
   "outputs": [
    {
     "data": {
      "text/plain": [
       "Gender            165\n",
       "Symptoms          165\n",
       "Alcohol           165\n",
       "HBsAg             165\n",
       "HBeAg             165\n",
       "HBcAb             165\n",
       "HCVAb             165\n",
       "Cirrhosis         165\n",
       "Endemic           165\n",
       "Smoking           165\n",
       "Diabetes          165\n",
       "Obesity           165\n",
       "Hemochro          165\n",
       "AHT               165\n",
       "CRI               165\n",
       "HIV               165\n",
       "NASH              165\n",
       "Varices           165\n",
       "Spleno            165\n",
       "PHT               165\n",
       "PVT               165\n",
       "Metastasis        165\n",
       "Hallmark          165\n",
       "Age               165\n",
       "Grams_day         165\n",
       "Packs_year        165\n",
       "PS                165\n",
       "Encephalopathy    165\n",
       "Ascites           165\n",
       "INR               165\n",
       "AFP               165\n",
       "Hemoglobin        165\n",
       "MCV               165\n",
       "Leucocytes        165\n",
       "Platelets         165\n",
       "Albumin           165\n",
       "Total_Bil         165\n",
       "ALT               165\n",
       "AST               165\n",
       "GGT               165\n",
       "ALP               165\n",
       "TP                165\n",
       "Creatinine        165\n",
       "Nodule            165\n",
       "Major_Dim         165\n",
       "Dir_Bil           165\n",
       "Iron              165\n",
       "Sat               165\n",
       "Ferritin          165\n",
       "Class             165\n",
       "dtype: int64"
      ]
     },
     "execution_count": 56,
     "metadata": {},
     "output_type": "execute_result"
    }
   ],
   "source": [
    "#examine all features in dataset\n",
    "zeroed_hcc_data.count()"
   ]
  },
  {
   "cell_type": "markdown",
   "metadata": {},
   "source": [
    "**Explore distribution of target: Alive or Dead at 1 Year =Mark**"
   ]
  },
  {
   "cell_type": "code",
   "execution_count": 57,
   "metadata": {},
   "outputs": [
    {
     "data": {
      "text/plain": [
       "<matplotlib.axes._subplots.AxesSubplot at 0x1371b20d0>"
      ]
     },
     "execution_count": 57,
     "metadata": {},
     "output_type": "execute_result"
    },
    {
     "data": {
      "image/png": "[encoded data removed]",
      "text/plain": [
       "<Figure size 432x288 with 1 Axes>"
      ]
     },
     "metadata": {
      "needs_background": "light"
     },
     "output_type": "display_data"
    }
   ],
   "source": [
    "\"\"\"Note degree of class imbalance; \n",
    "Class Distribution: 2 classes: 63 patients labeled as “dies” (0) 102 patients labeled as “lives” (1)\"\"\"\n",
    "sns.kdeplot(raw_hcc_data[\"Class\"])"
   ]
  },
  {
   "cell_type": "markdown",
   "metadata": {},
   "source": [
    "\n",
    "**Correlation matrix**"
   ]
  },
  {
   "cell_type": "code",
   "execution_count": 58,
   "metadata": {},
   "outputs": [
    {
     "data": {
      "text/html": [
       "<style  type=\"text/css\" >\n",
       "    #T_2dcd722a_aa41_11e9_864c_acde48001122row0_col0 {\n",
       "            background-color:  #b40426;\n",
       "            color:  #f1f1f1;\n",
       "        }    #T_2dcd722a_aa41_11e9_864c_acde48001122row0_col1 {\n",
       "            background-color:  #d3dbe7;\n",
       "            color:  #000000;\n",
       "        }    #T_2dcd722a_aa41_11e9_864c_acde48001122row0_col2 {\n",
       "            background-color:  #8fb1fe;\n",
       "            color:  #000000;\n",
       "        }    #T_2dcd722a_aa41_11e9_864c_acde48001122row0_col3 {\n",
       "            background-color:  #97b8ff;\n",
       "            color:  #000000;\n",
       "        }    #T_2dcd722a_aa41_11e9_864c_acde48001122row0_col4 {\n",
       "            background-color:  #a2c1ff;\n",
       "            color:  #000000;\n",
       "        }    #T_2dcd722a_aa41_11e9_864c_acde48001122row0_col5 {\n",
       "            background-color:  #8caffe;\n",
       "            color:  #000000;\n",
       "        }    #T_2dcd722a_aa41_11e9_864c_acde48001122row1_col0 {\n",
       "            background-color:  #d3dbe7;\n",
       "            color:  #000000;\n",
       "        }    #T_2dcd722a_aa41_11e9_864c_acde48001122row1_col1 {\n",
       "            background-color:  #b40426;\n",
       "            color:  #f1f1f1;\n",
       "        }    #T_2dcd722a_aa41_11e9_864c_acde48001122row1_col2 {\n",
       "            background-color:  #d2dbe8;\n",
       "            color:  #000000;\n",
       "        }    #T_2dcd722a_aa41_11e9_864c_acde48001122row1_col3 {\n",
       "            background-color:  #94b6ff;\n",
       "            color:  #000000;\n",
       "        }    #T_2dcd722a_aa41_11e9_864c_acde48001122row1_col4 {\n",
       "            background-color:  #bed2f6;\n",
       "            color:  #000000;\n",
       "        }    #T_2dcd722a_aa41_11e9_864c_acde48001122row1_col5 {\n",
       "            background-color:  #8badfd;\n",
       "            color:  #000000;\n",
       "        }    #T_2dcd722a_aa41_11e9_864c_acde48001122row2_col0 {\n",
       "            background-color:  #98b9ff;\n",
       "            color:  #000000;\n",
       "        }    #T_2dcd722a_aa41_11e9_864c_acde48001122row2_col1 {\n",
       "            background-color:  #d7dce3;\n",
       "            color:  #000000;\n",
       "        }    #T_2dcd722a_aa41_11e9_864c_acde48001122row2_col2 {\n",
       "            background-color:  #b40426;\n",
       "            color:  #f1f1f1;\n",
       "        }    #T_2dcd722a_aa41_11e9_864c_acde48001122row2_col3 {\n",
       "            background-color:  #6282ea;\n",
       "            color:  #000000;\n",
       "        }    #T_2dcd722a_aa41_11e9_864c_acde48001122row2_col4 {\n",
       "            background-color:  #9bbcff;\n",
       "            color:  #000000;\n",
       "        }    #T_2dcd722a_aa41_11e9_864c_acde48001122row2_col5 {\n",
       "            background-color:  #9fbfff;\n",
       "            color:  #000000;\n",
       "        }    #T_2dcd722a_aa41_11e9_864c_acde48001122row3_col0 {\n",
       "            background-color:  #7b9ff9;\n",
       "            color:  #000000;\n",
       "        }    #T_2dcd722a_aa41_11e9_864c_acde48001122row3_col1 {\n",
       "            background-color:  #7a9df8;\n",
       "            color:  #000000;\n",
       "        }    #T_2dcd722a_aa41_11e9_864c_acde48001122row3_col2 {\n",
       "            background-color:  #3b4cc0;\n",
       "            color:  #f1f1f1;\n",
       "        }    #T_2dcd722a_aa41_11e9_864c_acde48001122row3_col3 {\n",
       "            background-color:  #b40426;\n",
       "            color:  #f1f1f1;\n",
       "        }    #T_2dcd722a_aa41_11e9_864c_acde48001122row3_col4 {\n",
       "            background-color:  #bbd1f8;\n",
       "            color:  #000000;\n",
       "        }    #T_2dcd722a_aa41_11e9_864c_acde48001122row3_col5 {\n",
       "            background-color:  #7093f3;\n",
       "            color:  #000000;\n",
       "        }    #T_2dcd722a_aa41_11e9_864c_acde48001122row4_col0 {\n",
       "            background-color:  #536edd;\n",
       "            color:  #000000;\n",
       "        }    #T_2dcd722a_aa41_11e9_864c_acde48001122row4_col1 {\n",
       "            background-color:  #799cf8;\n",
       "            color:  #000000;\n",
       "        }    #T_2dcd722a_aa41_11e9_864c_acde48001122row4_col2 {\n",
       "            background-color:  #4257c9;\n",
       "            color:  #f1f1f1;\n",
       "        }    #T_2dcd722a_aa41_11e9_864c_acde48001122row4_col3 {\n",
       "            background-color:  #90b2fe;\n",
       "            color:  #000000;\n",
       "        }    #T_2dcd722a_aa41_11e9_864c_acde48001122row4_col4 {\n",
       "            background-color:  #b40426;\n",
       "            color:  #f1f1f1;\n",
       "        }    #T_2dcd722a_aa41_11e9_864c_acde48001122row4_col5 {\n",
       "            background-color:  #3b4cc0;\n",
       "            color:  #f1f1f1;\n",
       "        }    #T_2dcd722a_aa41_11e9_864c_acde48001122row5_col0 {\n",
       "            background-color:  #3b4cc0;\n",
       "            color:  #f1f1f1;\n",
       "        }    #T_2dcd722a_aa41_11e9_864c_acde48001122row5_col1 {\n",
       "            background-color:  #3b4cc0;\n",
       "            color:  #f1f1f1;\n",
       "        }    #T_2dcd722a_aa41_11e9_864c_acde48001122row5_col2 {\n",
       "            background-color:  #455cce;\n",
       "            color:  #f1f1f1;\n",
       "        }    #T_2dcd722a_aa41_11e9_864c_acde48001122row5_col3 {\n",
       "            background-color:  #3b4cc0;\n",
       "            color:  #f1f1f1;\n",
       "        }    #T_2dcd722a_aa41_11e9_864c_acde48001122row5_col4 {\n",
       "            background-color:  #3b4cc0;\n",
       "            color:  #f1f1f1;\n",
       "        }    #T_2dcd722a_aa41_11e9_864c_acde48001122row5_col5 {\n",
       "            background-color:  #b40426;\n",
       "            color:  #f1f1f1;\n",
       "        }</style><table id=\"T_2dcd722a_aa41_11e9_864c_acde48001122\" ><thead>    <tr>        <th class=\"blank level0\" ></th>        <th class=\"col_heading level0 col0\" >Gender</th>        <th class=\"col_heading level0 col1\" >Alcohol</th>        <th class=\"col_heading level0 col2\" >Cirrhosis</th>        <th class=\"col_heading level0 col3\" >Age</th>        <th class=\"col_heading level0 col4\" >PS</th>        <th class=\"col_heading level0 col5\" >Class</th>    </tr></thead><tbody>\n",
       "                <tr>\n",
       "                        <th id=\"T_2dcd722a_aa41_11e9_864c_acde48001122level0_row0\" class=\"row_heading level0 row0\" >Gender</th>\n",
       "                        <td id=\"T_2dcd722a_aa41_11e9_864c_acde48001122row0_col0\" class=\"data row0 col0\" >1</td>\n",
       "                        <td id=\"T_2dcd722a_aa41_11e9_864c_acde48001122row0_col1\" class=\"data row0 col1\" >0.442103</td>\n",
       "                        <td id=\"T_2dcd722a_aa41_11e9_864c_acde48001122row0_col2\" class=\"data row0 col2\" >0.253663</td>\n",
       "                        <td id=\"T_2dcd722a_aa41_11e9_864c_acde48001122row0_col3\" class=\"data row0 col3\" >0.172121</td>\n",
       "                        <td id=\"T_2dcd722a_aa41_11e9_864c_acde48001122row0_col4\" class=\"data row0 col4\" >0.04661</td>\n",
       "                        <td id=\"T_2dcd722a_aa41_11e9_864c_acde48001122row0_col5\" class=\"data row0 col5\" >-0.0384348</td>\n",
       "            </tr>\n",
       "            <tr>\n",
       "                        <th id=\"T_2dcd722a_aa41_11e9_864c_acde48001122level0_row1\" class=\"row_heading level0 row1\" >Alcohol</th>\n",
       "                        <td id=\"T_2dcd722a_aa41_11e9_864c_acde48001122row1_col0\" class=\"data row1 col0\" >0.442103</td>\n",
       "                        <td id=\"T_2dcd722a_aa41_11e9_864c_acde48001122row1_col1\" class=\"data row1 col1\" >1</td>\n",
       "                        <td id=\"T_2dcd722a_aa41_11e9_864c_acde48001122row1_col2\" class=\"data row1 col2\" >0.458652</td>\n",
       "                        <td id=\"T_2dcd722a_aa41_11e9_864c_acde48001122row1_col3\" class=\"data row1 col3\" >0.162934</td>\n",
       "                        <td id=\"T_2dcd722a_aa41_11e9_864c_acde48001122row1_col4\" class=\"data row1 col4\" >0.161536</td>\n",
       "                        <td id=\"T_2dcd722a_aa41_11e9_864c_acde48001122row1_col5\" class=\"data row1 col5\" >-0.0403024</td>\n",
       "            </tr>\n",
       "            <tr>\n",
       "                        <th id=\"T_2dcd722a_aa41_11e9_864c_acde48001122level0_row2\" class=\"row_heading level0 row2\" >Cirrhosis</th>\n",
       "                        <td id=\"T_2dcd722a_aa41_11e9_864c_acde48001122row2_col0\" class=\"data row2 col0\" >0.253663</td>\n",
       "                        <td id=\"T_2dcd722a_aa41_11e9_864c_acde48001122row2_col1\" class=\"data row2 col1\" >0.458652</td>\n",
       "                        <td id=\"T_2dcd722a_aa41_11e9_864c_acde48001122row2_col2\" class=\"data row2 col2\" >1</td>\n",
       "                        <td id=\"T_2dcd722a_aa41_11e9_864c_acde48001122row2_col3\" class=\"data row2 col3\" >-0.0014582</td>\n",
       "                        <td id=\"T_2dcd722a_aa41_11e9_864c_acde48001122row2_col4\" class=\"data row2 col4\" >0.0224449</td>\n",
       "                        <td id=\"T_2dcd722a_aa41_11e9_864c_acde48001122row2_col5\" class=\"data row2 col5\" >0.0375573</td>\n",
       "            </tr>\n",
       "            <tr>\n",
       "                        <th id=\"T_2dcd722a_aa41_11e9_864c_acde48001122level0_row3\" class=\"row_heading level0 row3\" >Age</th>\n",
       "                        <td id=\"T_2dcd722a_aa41_11e9_864c_acde48001122row3_col0\" class=\"data row3 col0\" >0.172121</td>\n",
       "                        <td id=\"T_2dcd722a_aa41_11e9_864c_acde48001122row3_col1\" class=\"data row3 col1\" >0.162934</td>\n",
       "                        <td id=\"T_2dcd722a_aa41_11e9_864c_acde48001122row3_col2\" class=\"data row3 col2\" >-0.0014582</td>\n",
       "                        <td id=\"T_2dcd722a_aa41_11e9_864c_acde48001122row3_col3\" class=\"data row3 col3\" >1</td>\n",
       "                        <td id=\"T_2dcd722a_aa41_11e9_864c_acde48001122row3_col4\" class=\"data row3 col4\" >0.152242</td>\n",
       "                        <td id=\"T_2dcd722a_aa41_11e9_864c_acde48001122row3_col5\" class=\"data row3 col5\" >-0.146054</td>\n",
       "            </tr>\n",
       "            <tr>\n",
       "                        <th id=\"T_2dcd722a_aa41_11e9_864c_acde48001122level0_row4\" class=\"row_heading level0 row4\" >PS</th>\n",
       "                        <td id=\"T_2dcd722a_aa41_11e9_864c_acde48001122row4_col0\" class=\"data row4 col0\" >0.04661</td>\n",
       "                        <td id=\"T_2dcd722a_aa41_11e9_864c_acde48001122row4_col1\" class=\"data row4 col1\" >0.161536</td>\n",
       "                        <td id=\"T_2dcd722a_aa41_11e9_864c_acde48001122row4_col2\" class=\"data row4 col2\" >0.0224449</td>\n",
       "                        <td id=\"T_2dcd722a_aa41_11e9_864c_acde48001122row4_col3\" class=\"data row4 col3\" >0.152242</td>\n",
       "                        <td id=\"T_2dcd722a_aa41_11e9_864c_acde48001122row4_col4\" class=\"data row4 col4\" >1</td>\n",
       "                        <td id=\"T_2dcd722a_aa41_11e9_864c_acde48001122row4_col5\" class=\"data row4 col5\" >-0.379708</td>\n",
       "            </tr>\n",
       "            <tr>\n",
       "                        <th id=\"T_2dcd722a_aa41_11e9_864c_acde48001122level0_row5\" class=\"row_heading level0 row5\" >Class</th>\n",
       "                        <td id=\"T_2dcd722a_aa41_11e9_864c_acde48001122row5_col0\" class=\"data row5 col0\" >-0.0384348</td>\n",
       "                        <td id=\"T_2dcd722a_aa41_11e9_864c_acde48001122row5_col1\" class=\"data row5 col1\" >-0.0403024</td>\n",
       "                        <td id=\"T_2dcd722a_aa41_11e9_864c_acde48001122row5_col2\" class=\"data row5 col2\" >0.0375573</td>\n",
       "                        <td id=\"T_2dcd722a_aa41_11e9_864c_acde48001122row5_col3\" class=\"data row5 col3\" >-0.146054</td>\n",
       "                        <td id=\"T_2dcd722a_aa41_11e9_864c_acde48001122row5_col4\" class=\"data row5 col4\" >-0.379708</td>\n",
       "                        <td id=\"T_2dcd722a_aa41_11e9_864c_acde48001122row5_col5\" class=\"data row5 col5\" >1</td>\n",
       "            </tr>\n",
       "    </tbody></table>"
      ],
      "text/plain": [
       "<pandas.io.formats.style.Styler at 0x13bb559d0>"
      ]
     },
     "execution_count": 58,
     "metadata": {},
     "output_type": "execute_result"
    }
   ],
   "source": [
    "# Basic correlogram demonstrates minimal correlation among the dataset features\n",
    "corr = raw_hcc_data.corr()\n",
    "corr.style.background_gradient(cmap='coolwarm')"
   ]
  },
  {
   "cell_type": "markdown",
   "metadata": {},
   "source": [
    "**Summmary of 49 features:**\n",
    "\n",
    "Gender                       (1=Male;0=Female)\t\n",
    "\n",
    "Symptoms                     (1=Yes;0=No)\n",
    "\n",
    "Alcohol\t                     (1=Yes;0=No)\n",
    "\n",
    "Hepatitis B Surface Antigen\t (1=Yes;0=No)\n",
    "\n",
    "Hepatitis B e Antigen        (1=Yes;0=No)\n",
    "\n",
    "Hepatitis B Core Antibody    (1=Yes;0=No)\n",
    "\n",
    "Hepatitis C Virus Antibody\t (1=Yes;0=No)\n",
    "\n",
    "Cirrhosis                    (1=Yes;0=No)\n",
    "\n",
    "Endemic Countries\t         (1=Yes;0=No)\n",
    "\n",
    "Smoking                      (1=Yes;0=No)\n",
    "\n",
    "Diabetes\t                 (1=Yes;0=No)\n",
    "\n",
    "Obesity                      (1=Yes;0=No)\n",
    "\n",
    "Hemochromatosis              (1=Yes;0=No)\n",
    "\n",
    "Arterial Hypertension        (1=Yes;0=No)\n",
    "\n",
    "Chronic Renal Insufficiency\t (1=Yes;0=No)\n",
    "\n",
    "Human Immunodeficiency Virus (1=Yes;0=No)\n",
    "\n",
    "Nonalcoholic Steatohepatitis\t(1=Yes;0=No)\n",
    "\n",
    "Esophageal Varices\t\t\t\t(1=Yes;0=No)\n",
    "\n",
    "Splenomegaly\t\t\t\t\t(1=Yes;0=No)\n",
    "\n",
    "Portal Hypertension\t\t\t    (1=Yes;0=No)\t\n",
    "\n",
    "Portal Vein Thrombosis\t\t\t(1=Yes;0=No)\t\n",
    "\n",
    "Liver Metastasis\t\t\t\t(1=Yes;0=No)\t\n",
    "\n",
    "Radiological Hallmark\t\t\t(1=Yes;0=No)\t\n",
    "\n",
    "Age at diagnosis\t\t\t\t20-93\t\t\t\t\n",
    "\n",
    "Grams of Alcohol per day\t\tGrams/day\t\n",
    "\n",
    "Packs of cigarets per year\t\tPacks/year\t\t\n",
    "\n",
    "Performance Status*\t\t\t    [0,1,2,3,4,5]\t\n",
    "\n",
    "Encephalopathy degree*\t\t\t[1,2,3]\t\t\t\n",
    "\n",
    "Ascites degree*\t\t\t\t    [1,2,3]\t\t\t\n",
    "\n",
    "International Normalised Ratio*\t0.84-4.82\t\t\n",
    "\n",
    "Alpha-Fetoprotein (ng/mL)\t\tAFP\t\t\t\n",
    "\n",
    "Haemoglobin (g/dL)\t\t\t\t\n",
    "\n",
    "Mean Corpuscular Volume\t (fl)\tMCV\n",
    "\n",
    "Leukocytes(G/L)\t\t\t\t\t\n",
    "\n",
    "Platelets\t(G/L)\t\t\t\t\n",
    "\n",
    "Albumin (mg/dL)\t\t\t\t\n",
    "\n",
    "Total Bilirubin(mg/dL)\t\t\t\n",
    "\n",
    "Alanine transaminase (U/L)\t\tALT\n",
    "\n",
    "Aspartate transaminase (U/L)\tAST\t\t\t\t\n",
    "\n",
    "Gamma glutamyl transferase (U/L)GGT\t\t\t\n",
    "\n",
    "Alkaline phosphatase (U/L)\t\tALP\t\t\t\t\n",
    "\n",
    "Total Proteins (g/dL)\t\t\tTP\t\t\t\t\n",
    "\n",
    "Creatinine (mg/dL)\t\t\t\t\n",
    "\n",
    "Number of Nodules\t\t\t\t0-5\t\t\t\n",
    "\n",
    "Major dimension of nodule (cm)\t\n",
    "\n",
    "Direct Bilirubin (mg/dL)\t\t\n",
    "\n",
    "Iron\t(mcg/dL)\t\t\t\t\t\n",
    "\n",
    "Oxygen Saturation (%)\t\t\t\n",
    "\n",
    "Ferritin (ng/mL)\t\t\t\t\n",
    "\n",
    "Class Attribute\t\n"
   ]
  },
  {
   "cell_type": "markdown",
   "metadata": {},
   "source": []
  },
  {
   "cell_type": "markdown",
   "metadata": {},
   "source": [
    "### Pandas Profiling Package\n"
   ]
  },
  {
   "cell_type": "code",
   "execution_count": null,
   "metadata": {},
   "outputs": [],
   "source": [
    "raw_hcc_data.profile_report(style={'full_width':True})"
   ]
  },
  {
   "cell_type": "markdown",
   "metadata": {},
   "source": [
    "- ## Feature Selection/Engineering\n",
    "   "
   ]
  },
  {
   "cell_type": "markdown",
   "metadata": {},
   "source": [
    "A majority of the datasets missing values come from the lab values of Iron(mcg/dL), Oxygen Saturation, and Ferritin (ng/mL).  These values are important for liver disease secondary to hemachromatosis.  Since there is a feature indicating whether a patient has hemochromatosis or not, these 3 features will be dropped."
   ]
  },
  {
   "cell_type": "code",
   "execution_count": 41,
   "metadata": {},
   "outputs": [],
   "source": [
    "# raw_hcc_data=raw_hcc_data.drop(['Sat', \"Iron\", \"Ferritin\"], axis=1)\n",
    "\n"
   ]
  },
  {
   "cell_type": "code",
   "execution_count": 13,
   "metadata": {},
   "outputs": [
    {
     "data": {
      "text/plain": [
       "Index(['Gender', 'Symptoms', 'Alcohol', 'HBsAg', 'HBeAg', 'HBcAb', 'HCVAb',\n",
       "       'Cirrhosis', 'Endemic', 'Smoking', 'Diabetes', 'Obesity', 'Hemochro',\n",
       "       'AHT', 'CRI', 'HIV', 'NASH', 'Varices', 'Spleno', 'PHT', 'PVT',\n",
       "       'Metastasis', 'Hallmark', 'Age', 'Grams_day', 'Packs_year', 'PS',\n",
       "       'Encephalopathy', 'Ascites', 'INR', 'AFP', 'Hemoglobin', 'MCV',\n",
       "       'Leucocytes', 'Platelets', 'Albumin', 'Total_Bil', 'ALT', 'AST', 'GGT',\n",
       "       'ALP', 'TP', 'Creatinine', 'Nodule', 'Major_Dim', 'Dir_Bil', 'Iron',\n",
       "       'Sat', 'Ferritin', 'Class'],\n",
       "      dtype='object')"
      ]
     },
     "execution_count": 13,
     "metadata": {},
     "output_type": "execute_result"
    }
   ],
   "source": [
    "raw_hcc_data.head()\n",
    "raw_hcc_data.columns"
   ]
  },
  {
   "cell_type": "markdown",
   "metadata": {},
   "source": [
    "### Creating MELD Score Feature\n",
    "Created a MELD score for each patient in the dataset; MELD scores are use to predict 3 month mortality rates in patients with end-stage liver disease.  It stratifies severity of end-stage liver disease for transplant planning\n",
    "\n",
    "MELD = [ 0.378 * loge(bilirubin)) + (1.120*loge(INR)) + (0.957*loge(creatinine)) + 0.643 ] * 10\n",
    "\n",
    "The addition of the MELD score feature increased model accuracy by 2% (from 76% to 78%)\n",
    "(see MELD score section under model tuning for detailed code)\n",
    "\n",
    "<img src=\"meld_score.png\" width=\"800\">"
   ]
  },
  {
   "cell_type": "markdown",
   "metadata": {},
   "source": [
    "###  Creating Fibrosis-4 (FIB-4) Index for Liver Fibrosis Feature"
   ]
  },
  {
   "cell_type": "markdown",
   "metadata": {},
   "source": [
    "Created a FIB-4 Index score for each patient.  It is a noninvasive estimate of liver scarring in HCV and HBV patients. (see Fibrosis-4 Index score section under model tuning for detailed code)\n",
    "\n",
    "<img src=\"fib_4_index.png\" width=\"400\">"
   ]
  },
  {
   "cell_type": "markdown",
   "metadata": {},
   "source": [
    "### Creating NAFLD Score Feature"
   ]
  },
  {
   "cell_type": "code",
   "execution_count": null,
   "metadata": {},
   "outputs": [],
   "source": []
  },
  {
   "cell_type": "markdown",
   "metadata": {},
   "source": [
    "### Creating BCLC Score Feature"
   ]
  },
  {
   "cell_type": "code",
   "execution_count": null,
   "metadata": {},
   "outputs": [],
   "source": []
  },
  {
   "cell_type": "markdown",
   "metadata": {},
   "source": [
    "- ## Model Buiding/Tuning"
   ]
  },
  {
   "cell_type": "markdown",
   "metadata": {},
   "source": [
    "### Base Model\n",
    "Running a base logistic model in which Null values have been replaced with 0's and no additional model tuning or parameter optimization has occurred."
   ]
  },
  {
   "cell_type": "code",
   "execution_count": 14,
   "metadata": {
    "scrolled": true
   },
   "outputs": [],
   "source": [
    "X_zero = zeroed_hcc_data[zeroed_hcc_data.columns[:-1]]\n",
    "y_zero = zeroed_hcc_data.Class\n"
   ]
  },
  {
   "cell_type": "code",
   "execution_count": 15,
   "metadata": {},
   "outputs": [],
   "source": [
    "std_scaler = StandardScaler() #StandardScaler() # RobustScaler\n",
    "X_scaled_zero= std_scaler.fit_transform(X_zero)"
   ]
  },
  {
   "cell_type": "code",
   "execution_count": 16,
   "metadata": {},
   "outputs": [
    {
     "name": "stderr",
     "output_type": "stream",
     "text": [
      "/Library/Frameworks/Python.framework/Versions/3.7/lib/python3.7/site-packages/sklearn/linear_model/logistic.py:432: FutureWarning: Default solver will be changed to 'lbfgs' in 0.22. Specify a solver to silence this warning.\n",
      "  FutureWarning)\n"
     ]
    }
   ],
   "source": [
    "# Split the data into a training set and a test set\n",
    "X_train_0, X_test_0, y_train_0, y_test_0 = train_test_split(X_scaled_zero, y_zero, random_state=0)\n",
    "\n",
    "logreg = LogisticRegression(fit_intercept = False, C = 1e12)\n",
    "model_log = logreg.fit(X_train_0, y_train_0)\n",
    "model_log\n",
    "\n",
    "##run model with test data\n",
    "y_hat_test_0 = logreg.predict(X_test_0)\n",
    "y_hat_train_0 = logreg.predict(X_train_0)"
   ]
  },
  {
   "cell_type": "code",
   "execution_count": 17,
   "metadata": {},
   "outputs": [
    {
     "name": "stdout",
     "output_type": "stream",
     "text": [
      "0    123\n",
      "Name: Class, dtype: int64\n",
      "0    1.0\n",
      "Name: Class, dtype: float64\n"
     ]
    }
   ],
   "source": [
    "residuals = y_train_0 - y_hat_train_0\n",
    "print(pd.Series(residuals).value_counts())\n",
    "print(pd.Series(residuals).value_counts(normalize=True))"
   ]
  },
  {
   "cell_type": "code",
   "execution_count": 18,
   "metadata": {},
   "outputs": [
    {
     "name": "stdout",
     "output_type": "stream",
     "text": [
      " 0    28\n",
      " 1     9\n",
      "-1     5\n",
      "Name: Class, dtype: int64\n",
      " 0    0.666667\n",
      " 1    0.214286\n",
      "-1    0.119048\n",
      "Name: Class, dtype: float64\n"
     ]
    }
   ],
   "source": [
    "residuals = y_test_0 - y_hat_test_0\n",
    "print(pd.Series(residuals).value_counts())\n",
    "print(pd.Series(residuals).value_counts(normalize=True))"
   ]
  },
  {
   "cell_type": "code",
   "execution_count": 19,
   "metadata": {
    "scrolled": false
   },
   "outputs": [
    {
     "name": "stdout",
     "output_type": "stream",
     "text": [
      "Training Precision:  1.0\n",
      "Testing Precision:  0.6086956521739131\n",
      "\n",
      "\n",
      "\n",
      "Training Recall:  1.0\n",
      "Testing Recall:  0.7368421052631579\n",
      "\n",
      "\n",
      "\n",
      "Training Accuracy:  1.0\n",
      "Testing Accuracy:  0.6666666666666666\n",
      "\n",
      "\n",
      "\n",
      "Training F1-Score:  1.0\n",
      "Testing F1-Score:  0.6666666666666666\n"
     ]
    }
   ],
   "source": [
    "print('Training Precision: ', precision_score(y_hat_train_0, y_train_0))\n",
    "print('Testing Precision: ', precision_score(y_hat_test_0, y_test_0))\n",
    "print('\\n\\n')\n",
    "\n",
    "print('Training Recall: ', recall_score(y_hat_train_0, y_train_0))\n",
    "print('Testing Recall: ', recall_score(y_hat_test_0, y_test_0))\n",
    "print('\\n\\n')\n",
    "\n",
    "print('Training Accuracy: ', accuracy_score(y_hat_train_0, y_train_0))\n",
    "print('Testing Accuracy: ', accuracy_score(y_hat_test_0, y_test_0))\n",
    "print('\\n\\n')\n",
    "\n",
    "print('Training F1-Score: ',f1_score(y_hat_train_0,y_train_0))\n",
    "print('Testing F1-Score: ',f1_score(y_hat_test_0,y_test_0))"
   ]
  },
  {
   "cell_type": "markdown",
   "metadata": {},
   "source": [
    "### Tuning Model\n",
    "\n",
    "- ### **Utilizing KNN imputed data for missing values**\n",
    "\n",
    "-Nan's in dataset will be replaced with imputed data via KNN (K nearest neighbors) model; thereby preserving the \"patient profile\" and providing a more accurate result as oppose to simply filling in null values with means or averages.  "
   ]
  },
  {
   "cell_type": "code",
   "execution_count": 59,
   "metadata": {
    "scrolled": true
   },
   "outputs": [
    {
     "data": {
      "text/html": [
       "<div>\n",
       "<style scoped>\n",
       "    .dataframe tbody tr th:only-of-type {\n",
       "        vertical-align: middle;\n",
       "    }\n",
       "\n",
       "    .dataframe tbody tr th {\n",
       "        vertical-align: top;\n",
       "    }\n",
       "\n",
       "    .dataframe thead th {\n",
       "        text-align: right;\n",
       "    }\n",
       "</style>\n",
       "<table border=\"1\" class=\"dataframe\">\n",
       "  <thead>\n",
       "    <tr style=\"text-align: right;\">\n",
       "      <th></th>\n",
       "      <th>Gender</th>\n",
       "      <th>Symptoms</th>\n",
       "      <th>Alcohol</th>\n",
       "      <th>HBsAg</th>\n",
       "      <th>HBeAg</th>\n",
       "      <th>HBcAb</th>\n",
       "      <th>HCVAb</th>\n",
       "      <th>Cirrhosis</th>\n",
       "      <th>Endemic</th>\n",
       "      <th>Smoking</th>\n",
       "      <th>...</th>\n",
       "      <th>ALP</th>\n",
       "      <th>TP</th>\n",
       "      <th>Creatinine</th>\n",
       "      <th>Nodule</th>\n",
       "      <th>Major_Dim</th>\n",
       "      <th>Dir_Bil</th>\n",
       "      <th>Iron</th>\n",
       "      <th>Sat</th>\n",
       "      <th>Ferritin</th>\n",
       "      <th>Class</th>\n",
       "    </tr>\n",
       "  </thead>\n",
       "  <tbody>\n",
       "    <tr>\n",
       "      <th>0</th>\n",
       "      <td>1</td>\n",
       "      <td>0</td>\n",
       "      <td>1</td>\n",
       "      <td>0</td>\n",
       "      <td>0</td>\n",
       "      <td>0</td>\n",
       "      <td>0</td>\n",
       "      <td>1</td>\n",
       "      <td>0</td>\n",
       "      <td>1</td>\n",
       "      <td>...</td>\n",
       "      <td>150</td>\n",
       "      <td>7.1</td>\n",
       "      <td>0.7</td>\n",
       "      <td>1</td>\n",
       "      <td>3.5</td>\n",
       "      <td>0.5</td>\n",
       "      <td>NaN</td>\n",
       "      <td>NaN</td>\n",
       "      <td>NaN</td>\n",
       "      <td>1</td>\n",
       "    </tr>\n",
       "    <tr>\n",
       "      <th>1</th>\n",
       "      <td>0</td>\n",
       "      <td>NaN</td>\n",
       "      <td>0</td>\n",
       "      <td>0</td>\n",
       "      <td>0</td>\n",
       "      <td>0</td>\n",
       "      <td>1</td>\n",
       "      <td>1</td>\n",
       "      <td>NaN</td>\n",
       "      <td>NaN</td>\n",
       "      <td>...</td>\n",
       "      <td>NaN</td>\n",
       "      <td>NaN</td>\n",
       "      <td>NaN</td>\n",
       "      <td>1</td>\n",
       "      <td>1.8</td>\n",
       "      <td>NaN</td>\n",
       "      <td>NaN</td>\n",
       "      <td>NaN</td>\n",
       "      <td>NaN</td>\n",
       "      <td>1</td>\n",
       "    </tr>\n",
       "    <tr>\n",
       "      <th>2</th>\n",
       "      <td>1</td>\n",
       "      <td>0</td>\n",
       "      <td>1</td>\n",
       "      <td>1</td>\n",
       "      <td>0</td>\n",
       "      <td>1</td>\n",
       "      <td>0</td>\n",
       "      <td>1</td>\n",
       "      <td>0</td>\n",
       "      <td>1</td>\n",
       "      <td>...</td>\n",
       "      <td>109</td>\n",
       "      <td>7</td>\n",
       "      <td>2.1</td>\n",
       "      <td>5</td>\n",
       "      <td>13</td>\n",
       "      <td>0.1</td>\n",
       "      <td>28</td>\n",
       "      <td>6</td>\n",
       "      <td>16</td>\n",
       "      <td>1</td>\n",
       "    </tr>\n",
       "    <tr>\n",
       "      <th>3</th>\n",
       "      <td>1</td>\n",
       "      <td>1</td>\n",
       "      <td>1</td>\n",
       "      <td>0</td>\n",
       "      <td>0</td>\n",
       "      <td>0</td>\n",
       "      <td>0</td>\n",
       "      <td>1</td>\n",
       "      <td>0</td>\n",
       "      <td>1</td>\n",
       "      <td>...</td>\n",
       "      <td>174</td>\n",
       "      <td>8.1</td>\n",
       "      <td>1.11</td>\n",
       "      <td>2</td>\n",
       "      <td>15.7</td>\n",
       "      <td>0.2</td>\n",
       "      <td>NaN</td>\n",
       "      <td>NaN</td>\n",
       "      <td>NaN</td>\n",
       "      <td>0</td>\n",
       "    </tr>\n",
       "    <tr>\n",
       "      <th>4</th>\n",
       "      <td>1</td>\n",
       "      <td>1</td>\n",
       "      <td>1</td>\n",
       "      <td>1</td>\n",
       "      <td>0</td>\n",
       "      <td>1</td>\n",
       "      <td>0</td>\n",
       "      <td>1</td>\n",
       "      <td>0</td>\n",
       "      <td>1</td>\n",
       "      <td>...</td>\n",
       "      <td>109</td>\n",
       "      <td>6.9</td>\n",
       "      <td>1.8</td>\n",
       "      <td>1</td>\n",
       "      <td>9</td>\n",
       "      <td>NaN</td>\n",
       "      <td>59</td>\n",
       "      <td>15</td>\n",
       "      <td>22</td>\n",
       "      <td>1</td>\n",
       "    </tr>\n",
       "  </tbody>\n",
       "</table>\n",
       "<p>5 rows × 50 columns</p>\n",
       "</div>"
      ],
      "text/plain": [
       "   Gender Symptoms  Alcohol HBsAg HBeAg HBcAb HCVAb  Cirrhosis Endemic  \\\n",
       "0       1        0        1     0     0     0     0          1       0   \n",
       "1       0      NaN        0     0     0     0     1          1     NaN   \n",
       "2       1        0        1     1     0     1     0          1       0   \n",
       "3       1        1        1     0     0     0     0          1       0   \n",
       "4       1        1        1     1     0     1     0          1       0   \n",
       "\n",
       "  Smoking  ...  ALP   TP Creatinine Nodule Major_Dim Dir_Bil Iron  Sat  \\\n",
       "0       1  ...  150  7.1        0.7      1       3.5     0.5  NaN  NaN   \n",
       "1     NaN  ...  NaN  NaN        NaN      1       1.8     NaN  NaN  NaN   \n",
       "2       1  ...  109    7        2.1      5        13     0.1   28    6   \n",
       "3       1  ...  174  8.1       1.11      2      15.7     0.2  NaN  NaN   \n",
       "4       1  ...  109  6.9        1.8      1         9     NaN   59   15   \n",
       "\n",
       "  Ferritin Class  \n",
       "0      NaN     1  \n",
       "1      NaN     1  \n",
       "2       16     1  \n",
       "3      NaN     0  \n",
       "4       22     1  \n",
       "\n",
       "[5 rows x 50 columns]"
      ]
     },
     "execution_count": 59,
     "metadata": {},
     "output_type": "execute_result"
    }
   ],
   "source": [
    "# replace all \"?\" in the dataset with Nan to prepare for KNN model\n",
    "hcc_data=raw_hcc_data.replace(\"?\", np.nan)\n",
    "hcc_data.head()"
   ]
  },
  {
   "cell_type": "code",
   "execution_count": 60,
   "metadata": {
    "scrolled": true
   },
   "outputs": [
    {
     "name": "stdout",
     "output_type": "stream",
     "text": [
      "Imputing row 1/165 with 4 missing, elapsed time: 0.020\n",
      "Imputing row 101/165 with 6 missing, elapsed time: 0.032\n"
     ]
    }
   ],
   "source": [
    "###run KNN model using fancyimpute package\n",
    "from fancyimpute import KNN\n",
    "\n",
    "# Use 3 nearest rows which have a feature to fill in each row's missing features\n",
    "# it returns a np.array which I store as a pandas dataframe\n",
    "hcc_data_filled = pd.DataFrame(KNN(3).fit_transform(hcc_data))\n"
   ]
  },
  {
   "cell_type": "code",
   "execution_count": 61,
   "metadata": {},
   "outputs": [],
   "source": [
    "##the column categories were removed when imputed into model, reinsert column headings\n",
    "hcc_data_filled.columns = hcc_data.columns\n",
    "hcc_data_filled.index = hcc_data.index"
   ]
  },
  {
   "cell_type": "code",
   "execution_count": 62,
   "metadata": {
    "scrolled": true
   },
   "outputs": [
    {
     "data": {
      "text/html": [
       "<div>\n",
       "<style scoped>\n",
       "    .dataframe tbody tr th:only-of-type {\n",
       "        vertical-align: middle;\n",
       "    }\n",
       "\n",
       "    .dataframe tbody tr th {\n",
       "        vertical-align: top;\n",
       "    }\n",
       "\n",
       "    .dataframe thead th {\n",
       "        text-align: right;\n",
       "    }\n",
       "</style>\n",
       "<table border=\"1\" class=\"dataframe\">\n",
       "  <thead>\n",
       "    <tr style=\"text-align: right;\">\n",
       "      <th></th>\n",
       "      <th>Gender</th>\n",
       "      <th>Symptoms</th>\n",
       "      <th>Alcohol</th>\n",
       "      <th>HBsAg</th>\n",
       "      <th>HBeAg</th>\n",
       "      <th>HBcAb</th>\n",
       "      <th>HCVAb</th>\n",
       "      <th>Cirrhosis</th>\n",
       "      <th>Endemic</th>\n",
       "      <th>Smoking</th>\n",
       "      <th>...</th>\n",
       "      <th>ALP</th>\n",
       "      <th>TP</th>\n",
       "      <th>Creatinine</th>\n",
       "      <th>Nodule</th>\n",
       "      <th>Major_Dim</th>\n",
       "      <th>Dir_Bil</th>\n",
       "      <th>Iron</th>\n",
       "      <th>Sat</th>\n",
       "      <th>Ferritin</th>\n",
       "      <th>Class</th>\n",
       "    </tr>\n",
       "  </thead>\n",
       "  <tbody>\n",
       "    <tr>\n",
       "      <th>0</th>\n",
       "      <td>1.0</td>\n",
       "      <td>0.000000</td>\n",
       "      <td>1.0</td>\n",
       "      <td>0.0</td>\n",
       "      <td>0.0</td>\n",
       "      <td>0.0</td>\n",
       "      <td>0.0</td>\n",
       "      <td>1.0</td>\n",
       "      <td>0.0</td>\n",
       "      <td>1.000000</td>\n",
       "      <td>...</td>\n",
       "      <td>150.000000</td>\n",
       "      <td>7.100000</td>\n",
       "      <td>0.700000</td>\n",
       "      <td>1.0</td>\n",
       "      <td>3.5</td>\n",
       "      <td>0.500000</td>\n",
       "      <td>172.624798</td>\n",
       "      <td>77.968171</td>\n",
       "      <td>679.966715</td>\n",
       "      <td>1.0</td>\n",
       "    </tr>\n",
       "    <tr>\n",
       "      <th>1</th>\n",
       "      <td>0.0</td>\n",
       "      <td>0.341166</td>\n",
       "      <td>0.0</td>\n",
       "      <td>0.0</td>\n",
       "      <td>0.0</td>\n",
       "      <td>0.0</td>\n",
       "      <td>1.0</td>\n",
       "      <td>1.0</td>\n",
       "      <td>0.0</td>\n",
       "      <td>0.343383</td>\n",
       "      <td>...</td>\n",
       "      <td>115.692145</td>\n",
       "      <td>7.501206</td>\n",
       "      <td>0.789035</td>\n",
       "      <td>1.0</td>\n",
       "      <td>1.8</td>\n",
       "      <td>0.647632</td>\n",
       "      <td>151.732189</td>\n",
       "      <td>54.933189</td>\n",
       "      <td>691.592421</td>\n",
       "      <td>1.0</td>\n",
       "    </tr>\n",
       "    <tr>\n",
       "      <th>2</th>\n",
       "      <td>1.0</td>\n",
       "      <td>0.000000</td>\n",
       "      <td>1.0</td>\n",
       "      <td>1.0</td>\n",
       "      <td>0.0</td>\n",
       "      <td>1.0</td>\n",
       "      <td>0.0</td>\n",
       "      <td>1.0</td>\n",
       "      <td>0.0</td>\n",
       "      <td>1.000000</td>\n",
       "      <td>...</td>\n",
       "      <td>109.000000</td>\n",
       "      <td>7.000000</td>\n",
       "      <td>2.100000</td>\n",
       "      <td>5.0</td>\n",
       "      <td>13.0</td>\n",
       "      <td>0.100000</td>\n",
       "      <td>28.000000</td>\n",
       "      <td>6.000000</td>\n",
       "      <td>16.000000</td>\n",
       "      <td>1.0</td>\n",
       "    </tr>\n",
       "    <tr>\n",
       "      <th>3</th>\n",
       "      <td>1.0</td>\n",
       "      <td>1.000000</td>\n",
       "      <td>1.0</td>\n",
       "      <td>0.0</td>\n",
       "      <td>0.0</td>\n",
       "      <td>0.0</td>\n",
       "      <td>0.0</td>\n",
       "      <td>1.0</td>\n",
       "      <td>0.0</td>\n",
       "      <td>1.000000</td>\n",
       "      <td>...</td>\n",
       "      <td>174.000000</td>\n",
       "      <td>8.100000</td>\n",
       "      <td>1.110000</td>\n",
       "      <td>2.0</td>\n",
       "      <td>15.7</td>\n",
       "      <td>0.200000</td>\n",
       "      <td>72.394533</td>\n",
       "      <td>26.111762</td>\n",
       "      <td>385.207036</td>\n",
       "      <td>0.0</td>\n",
       "    </tr>\n",
       "    <tr>\n",
       "      <th>4</th>\n",
       "      <td>1.0</td>\n",
       "      <td>1.000000</td>\n",
       "      <td>1.0</td>\n",
       "      <td>1.0</td>\n",
       "      <td>0.0</td>\n",
       "      <td>1.0</td>\n",
       "      <td>0.0</td>\n",
       "      <td>1.0</td>\n",
       "      <td>0.0</td>\n",
       "      <td>1.000000</td>\n",
       "      <td>...</td>\n",
       "      <td>109.000000</td>\n",
       "      <td>6.900000</td>\n",
       "      <td>1.800000</td>\n",
       "      <td>1.0</td>\n",
       "      <td>9.0</td>\n",
       "      <td>0.357331</td>\n",
       "      <td>59.000000</td>\n",
       "      <td>15.000000</td>\n",
       "      <td>22.000000</td>\n",
       "      <td>1.0</td>\n",
       "    </tr>\n",
       "  </tbody>\n",
       "</table>\n",
       "<p>5 rows × 50 columns</p>\n",
       "</div>"
      ],
      "text/plain": [
       "   Gender  Symptoms  Alcohol  HBsAg  HBeAg  HBcAb  HCVAb  Cirrhosis  Endemic  \\\n",
       "0     1.0  0.000000      1.0    0.0    0.0    0.0    0.0        1.0      0.0   \n",
       "1     0.0  0.341166      0.0    0.0    0.0    0.0    1.0        1.0      0.0   \n",
       "2     1.0  0.000000      1.0    1.0    0.0    1.0    0.0        1.0      0.0   \n",
       "3     1.0  1.000000      1.0    0.0    0.0    0.0    0.0        1.0      0.0   \n",
       "4     1.0  1.000000      1.0    1.0    0.0    1.0    0.0        1.0      0.0   \n",
       "\n",
       "    Smoking  ...         ALP        TP  Creatinine  Nodule  Major_Dim  \\\n",
       "0  1.000000  ...  150.000000  7.100000    0.700000     1.0        3.5   \n",
       "1  0.343383  ...  115.692145  7.501206    0.789035     1.0        1.8   \n",
       "2  1.000000  ...  109.000000  7.000000    2.100000     5.0       13.0   \n",
       "3  1.000000  ...  174.000000  8.100000    1.110000     2.0       15.7   \n",
       "4  1.000000  ...  109.000000  6.900000    1.800000     1.0        9.0   \n",
       "\n",
       "    Dir_Bil        Iron        Sat    Ferritin  Class  \n",
       "0  0.500000  172.624798  77.968171  679.966715    1.0  \n",
       "1  0.647632  151.732189  54.933189  691.592421    1.0  \n",
       "2  0.100000   28.000000   6.000000   16.000000    1.0  \n",
       "3  0.200000   72.394533  26.111762  385.207036    0.0  \n",
       "4  0.357331   59.000000  15.000000   22.000000    1.0  \n",
       "\n",
       "[5 rows x 50 columns]"
      ]
     },
     "execution_count": 62,
     "metadata": {},
     "output_type": "execute_result"
    }
   ],
   "source": [
    "##All Nan's have been replaced with numerical values determined by KNN model\n",
    "hcc_data_filled.head()"
   ]
  },
  {
   "cell_type": "markdown",
   "metadata": {},
   "source": [
    "- ### **Creating MELD score feature**"
   ]
  },
  {
   "cell_type": "code",
   "execution_count": 63,
   "metadata": {
    "scrolled": true
   },
   "outputs": [
    {
     "data": {
      "text/html": [
       "<div>\n",
       "<style scoped>\n",
       "    .dataframe tbody tr th:only-of-type {\n",
       "        vertical-align: middle;\n",
       "    }\n",
       "\n",
       "    .dataframe tbody tr th {\n",
       "        vertical-align: top;\n",
       "    }\n",
       "\n",
       "    .dataframe thead th {\n",
       "        text-align: right;\n",
       "    }\n",
       "</style>\n",
       "<table border=\"1\" class=\"dataframe\">\n",
       "  <thead>\n",
       "    <tr style=\"text-align: right;\">\n",
       "      <th></th>\n",
       "      <th>Gender</th>\n",
       "      <th>Symptoms</th>\n",
       "      <th>Alcohol</th>\n",
       "      <th>HBsAg</th>\n",
       "      <th>HBeAg</th>\n",
       "      <th>HBcAb</th>\n",
       "      <th>HCVAb</th>\n",
       "      <th>Cirrhosis</th>\n",
       "      <th>Endemic</th>\n",
       "      <th>Smoking</th>\n",
       "      <th>...</th>\n",
       "      <th>TP</th>\n",
       "      <th>Creatinine</th>\n",
       "      <th>Nodule</th>\n",
       "      <th>Major_Dim</th>\n",
       "      <th>Dir_Bil</th>\n",
       "      <th>Iron</th>\n",
       "      <th>Sat</th>\n",
       "      <th>Ferritin</th>\n",
       "      <th>Class</th>\n",
       "      <th>meld_score</th>\n",
       "    </tr>\n",
       "  </thead>\n",
       "  <tbody>\n",
       "    <tr>\n",
       "      <th>160</th>\n",
       "      <td>0.0</td>\n",
       "      <td>0.0</td>\n",
       "      <td>1.0</td>\n",
       "      <td>0.000000</td>\n",
       "      <td>0.0</td>\n",
       "      <td>0.000000</td>\n",
       "      <td>1.000000</td>\n",
       "      <td>1.0</td>\n",
       "      <td>0.0</td>\n",
       "      <td>1.0</td>\n",
       "      <td>...</td>\n",
       "      <td>7.6</td>\n",
       "      <td>0.70</td>\n",
       "      <td>5.0</td>\n",
       "      <td>3.0</td>\n",
       "      <td>0.335016</td>\n",
       "      <td>101.403671</td>\n",
       "      <td>49.040665</td>\n",
       "      <td>604.277108</td>\n",
       "      <td>1.0</td>\n",
       "      <td>-1.556233</td>\n",
       "    </tr>\n",
       "    <tr>\n",
       "      <th>161</th>\n",
       "      <td>0.0</td>\n",
       "      <td>1.0</td>\n",
       "      <td>0.0</td>\n",
       "      <td>0.000106</td>\n",
       "      <td>0.0</td>\n",
       "      <td>0.000106</td>\n",
       "      <td>0.927229</td>\n",
       "      <td>1.0</td>\n",
       "      <td>0.0</td>\n",
       "      <td>0.0</td>\n",
       "      <td>...</td>\n",
       "      <td>6.7</td>\n",
       "      <td>0.70</td>\n",
       "      <td>1.0</td>\n",
       "      <td>2.2</td>\n",
       "      <td>2.300000</td>\n",
       "      <td>82.599618</td>\n",
       "      <td>25.974998</td>\n",
       "      <td>194.442225</td>\n",
       "      <td>0.0</td>\n",
       "      <td>11.052555</td>\n",
       "    </tr>\n",
       "    <tr>\n",
       "      <th>162</th>\n",
       "      <td>1.0</td>\n",
       "      <td>0.0</td>\n",
       "      <td>1.0</td>\n",
       "      <td>0.000000</td>\n",
       "      <td>0.0</td>\n",
       "      <td>0.000000</td>\n",
       "      <td>0.000000</td>\n",
       "      <td>1.0</td>\n",
       "      <td>0.0</td>\n",
       "      <td>1.0</td>\n",
       "      <td>...</td>\n",
       "      <td>7.5</td>\n",
       "      <td>1.46</td>\n",
       "      <td>5.0</td>\n",
       "      <td>18.6</td>\n",
       "      <td>19.819333</td>\n",
       "      <td>24.268491</td>\n",
       "      <td>9.578649</td>\n",
       "      <td>473.166684</td>\n",
       "      <td>1.0</td>\n",
       "      <td>9.489553</td>\n",
       "    </tr>\n",
       "    <tr>\n",
       "      <th>163</th>\n",
       "      <td>1.0</td>\n",
       "      <td>0.0</td>\n",
       "      <td>1.0</td>\n",
       "      <td>1.000000</td>\n",
       "      <td>0.0</td>\n",
       "      <td>1.000000</td>\n",
       "      <td>1.000000</td>\n",
       "      <td>1.0</td>\n",
       "      <td>1.0</td>\n",
       "      <td>1.0</td>\n",
       "      <td>...</td>\n",
       "      <td>8.4</td>\n",
       "      <td>0.74</td>\n",
       "      <td>5.0</td>\n",
       "      <td>18.0</td>\n",
       "      <td>1.082581</td>\n",
       "      <td>53.267156</td>\n",
       "      <td>22.226264</td>\n",
       "      <td>388.430047</td>\n",
       "      <td>0.0</td>\n",
       "      <td>12.429722</td>\n",
       "    </tr>\n",
       "    <tr>\n",
       "      <th>164</th>\n",
       "      <td>1.0</td>\n",
       "      <td>1.0</td>\n",
       "      <td>1.0</td>\n",
       "      <td>0.000000</td>\n",
       "      <td>0.0</td>\n",
       "      <td>0.000000</td>\n",
       "      <td>1.000000</td>\n",
       "      <td>1.0</td>\n",
       "      <td>0.0</td>\n",
       "      <td>1.0</td>\n",
       "      <td>...</td>\n",
       "      <td>6.6</td>\n",
       "      <td>3.95</td>\n",
       "      <td>5.0</td>\n",
       "      <td>8.5</td>\n",
       "      <td>19.800000</td>\n",
       "      <td>27.790599</td>\n",
       "      <td>6.769031</td>\n",
       "      <td>163.570573</td>\n",
       "      <td>0.0</td>\n",
       "      <td>38.759910</td>\n",
       "    </tr>\n",
       "  </tbody>\n",
       "</table>\n",
       "<p>5 rows × 51 columns</p>\n",
       "</div>"
      ],
      "text/plain": [
       "     Gender  Symptoms  Alcohol     HBsAg  HBeAg     HBcAb     HCVAb  \\\n",
       "160     0.0       0.0      1.0  0.000000    0.0  0.000000  1.000000   \n",
       "161     0.0       1.0      0.0  0.000106    0.0  0.000106  0.927229   \n",
       "162     1.0       0.0      1.0  0.000000    0.0  0.000000  0.000000   \n",
       "163     1.0       0.0      1.0  1.000000    0.0  1.000000  1.000000   \n",
       "164     1.0       1.0      1.0  0.000000    0.0  0.000000  1.000000   \n",
       "\n",
       "     Cirrhosis  Endemic  Smoking  ...   TP  Creatinine  Nodule  Major_Dim  \\\n",
       "160        1.0      0.0      1.0  ...  7.6        0.70     5.0        3.0   \n",
       "161        1.0      0.0      0.0  ...  6.7        0.70     1.0        2.2   \n",
       "162        1.0      0.0      1.0  ...  7.5        1.46     5.0       18.6   \n",
       "163        1.0      1.0      1.0  ...  8.4        0.74     5.0       18.0   \n",
       "164        1.0      0.0      1.0  ...  6.6        3.95     5.0        8.5   \n",
       "\n",
       "       Dir_Bil        Iron        Sat    Ferritin  Class  meld_score  \n",
       "160   0.335016  101.403671  49.040665  604.277108    1.0   -1.556233  \n",
       "161   2.300000   82.599618  25.974998  194.442225    0.0   11.052555  \n",
       "162  19.819333   24.268491   9.578649  473.166684    1.0    9.489553  \n",
       "163   1.082581   53.267156  22.226264  388.430047    0.0   12.429722  \n",
       "164  19.800000   27.790599   6.769031  163.570573    0.0   38.759910  \n",
       "\n",
       "[5 rows x 51 columns]"
      ]
     },
     "execution_count": 63,
     "metadata": {},
     "output_type": "execute_result"
    }
   ],
   "source": [
    "### Created a function to compute patient MELD scores and subsequently added a new column to hold these new values\n",
    "def fxyz(x, y, z):  ##MELD score formula uses Total Bili, INR, and Creatinine\n",
    "    return (((np.log(x)*0.378) + (np.log(y)*1.120)  + (np.log(z)*0.957)+0.643)*10)\n",
    "\n",
    "hcc_data_filled['meld_score'] = hcc_data_filled.apply(lambda x: fxyz(x['Total_Bil'], x['INR'], x['Creatinine']), axis=1)\n",
    "hcc_data_filled.tail()"
   ]
  },
  {
   "cell_type": "markdown",
   "metadata": {},
   "source": [
    "- ### Creating Fibrosis-4 (FIB-4) Index for Liver Fibrosis Feature"
   ]
  },
  {
   "cell_type": "code",
   "execution_count": 64,
   "metadata": {},
   "outputs": [
    {
     "data": {
      "text/html": [
       "<div>\n",
       "<style scoped>\n",
       "    .dataframe tbody tr th:only-of-type {\n",
       "        vertical-align: middle;\n",
       "    }\n",
       "\n",
       "    .dataframe tbody tr th {\n",
       "        vertical-align: top;\n",
       "    }\n",
       "\n",
       "    .dataframe thead th {\n",
       "        text-align: right;\n",
       "    }\n",
       "</style>\n",
       "<table border=\"1\" class=\"dataframe\">\n",
       "  <thead>\n",
       "    <tr style=\"text-align: right;\">\n",
       "      <th></th>\n",
       "      <th>Gender</th>\n",
       "      <th>Symptoms</th>\n",
       "      <th>Alcohol</th>\n",
       "      <th>HBsAg</th>\n",
       "      <th>HBeAg</th>\n",
       "      <th>HBcAb</th>\n",
       "      <th>HCVAb</th>\n",
       "      <th>Cirrhosis</th>\n",
       "      <th>Endemic</th>\n",
       "      <th>Smoking</th>\n",
       "      <th>...</th>\n",
       "      <th>Creatinine</th>\n",
       "      <th>Nodule</th>\n",
       "      <th>Major_Dim</th>\n",
       "      <th>Dir_Bil</th>\n",
       "      <th>Iron</th>\n",
       "      <th>Sat</th>\n",
       "      <th>Ferritin</th>\n",
       "      <th>Class</th>\n",
       "      <th>meld_score</th>\n",
       "      <th>fib_score</th>\n",
       "    </tr>\n",
       "  </thead>\n",
       "  <tbody>\n",
       "    <tr>\n",
       "      <th>160</th>\n",
       "      <td>0.0</td>\n",
       "      <td>0.0</td>\n",
       "      <td>1.0</td>\n",
       "      <td>0.000000</td>\n",
       "      <td>0.0</td>\n",
       "      <td>0.000000</td>\n",
       "      <td>1.000000</td>\n",
       "      <td>1.0</td>\n",
       "      <td>0.0</td>\n",
       "      <td>1.0</td>\n",
       "      <td>...</td>\n",
       "      <td>0.70</td>\n",
       "      <td>5.0</td>\n",
       "      <td>3.0</td>\n",
       "      <td>0.335016</td>\n",
       "      <td>101.403671</td>\n",
       "      <td>49.040665</td>\n",
       "      <td>604.277108</td>\n",
       "      <td>1.0</td>\n",
       "      <td>-1.556233</td>\n",
       "      <td>0.001470</td>\n",
       "    </tr>\n",
       "    <tr>\n",
       "      <th>161</th>\n",
       "      <td>0.0</td>\n",
       "      <td>1.0</td>\n",
       "      <td>0.0</td>\n",
       "      <td>0.000106</td>\n",
       "      <td>0.0</td>\n",
       "      <td>0.000106</td>\n",
       "      <td>0.927229</td>\n",
       "      <td>1.0</td>\n",
       "      <td>0.0</td>\n",
       "      <td>0.0</td>\n",
       "      <td>...</td>\n",
       "      <td>0.70</td>\n",
       "      <td>1.0</td>\n",
       "      <td>2.2</td>\n",
       "      <td>2.300000</td>\n",
       "      <td>82.599618</td>\n",
       "      <td>25.974998</td>\n",
       "      <td>194.442225</td>\n",
       "      <td>0.0</td>\n",
       "      <td>11.052555</td>\n",
       "      <td>6.206492</td>\n",
       "    </tr>\n",
       "    <tr>\n",
       "      <th>162</th>\n",
       "      <td>1.0</td>\n",
       "      <td>0.0</td>\n",
       "      <td>1.0</td>\n",
       "      <td>0.000000</td>\n",
       "      <td>0.0</td>\n",
       "      <td>0.000000</td>\n",
       "      <td>0.000000</td>\n",
       "      <td>1.0</td>\n",
       "      <td>0.0</td>\n",
       "      <td>1.0</td>\n",
       "      <td>...</td>\n",
       "      <td>1.46</td>\n",
       "      <td>5.0</td>\n",
       "      <td>18.6</td>\n",
       "      <td>19.819333</td>\n",
       "      <td>24.268491</td>\n",
       "      <td>9.578649</td>\n",
       "      <td>473.166684</td>\n",
       "      <td>1.0</td>\n",
       "      <td>9.489553</td>\n",
       "      <td>0.001206</td>\n",
       "    </tr>\n",
       "    <tr>\n",
       "      <th>163</th>\n",
       "      <td>1.0</td>\n",
       "      <td>0.0</td>\n",
       "      <td>1.0</td>\n",
       "      <td>1.000000</td>\n",
       "      <td>0.0</td>\n",
       "      <td>1.000000</td>\n",
       "      <td>1.000000</td>\n",
       "      <td>1.0</td>\n",
       "      <td>1.0</td>\n",
       "      <td>1.0</td>\n",
       "      <td>...</td>\n",
       "      <td>0.74</td>\n",
       "      <td>5.0</td>\n",
       "      <td>18.0</td>\n",
       "      <td>1.082581</td>\n",
       "      <td>53.267156</td>\n",
       "      <td>22.226264</td>\n",
       "      <td>388.430047</td>\n",
       "      <td>0.0</td>\n",
       "      <td>12.429722</td>\n",
       "      <td>0.003164</td>\n",
       "    </tr>\n",
       "    <tr>\n",
       "      <th>164</th>\n",
       "      <td>1.0</td>\n",
       "      <td>1.0</td>\n",
       "      <td>1.0</td>\n",
       "      <td>0.000000</td>\n",
       "      <td>0.0</td>\n",
       "      <td>0.000000</td>\n",
       "      <td>1.000000</td>\n",
       "      <td>1.0</td>\n",
       "      <td>0.0</td>\n",
       "      <td>1.0</td>\n",
       "      <td>...</td>\n",
       "      <td>3.95</td>\n",
       "      <td>5.0</td>\n",
       "      <td>8.5</td>\n",
       "      <td>19.800000</td>\n",
       "      <td>27.790599</td>\n",
       "      <td>6.769031</td>\n",
       "      <td>163.570573</td>\n",
       "      <td>0.0</td>\n",
       "      <td>38.759910</td>\n",
       "      <td>0.001815</td>\n",
       "    </tr>\n",
       "  </tbody>\n",
       "</table>\n",
       "<p>5 rows × 52 columns</p>\n",
       "</div>"
      ],
      "text/plain": [
       "     Gender  Symptoms  Alcohol     HBsAg  HBeAg     HBcAb     HCVAb  \\\n",
       "160     0.0       0.0      1.0  0.000000    0.0  0.000000  1.000000   \n",
       "161     0.0       1.0      0.0  0.000106    0.0  0.000106  0.927229   \n",
       "162     1.0       0.0      1.0  0.000000    0.0  0.000000  0.000000   \n",
       "163     1.0       0.0      1.0  1.000000    0.0  1.000000  1.000000   \n",
       "164     1.0       1.0      1.0  0.000000    0.0  0.000000  1.000000   \n",
       "\n",
       "     Cirrhosis  Endemic  Smoking  ...  Creatinine  Nodule  Major_Dim  \\\n",
       "160        1.0      0.0      1.0  ...        0.70     5.0        3.0   \n",
       "161        1.0      0.0      0.0  ...        0.70     1.0        2.2   \n",
       "162        1.0      0.0      1.0  ...        1.46     5.0       18.6   \n",
       "163        1.0      1.0      1.0  ...        0.74     5.0       18.0   \n",
       "164        1.0      0.0      1.0  ...        3.95     5.0        8.5   \n",
       "\n",
       "       Dir_Bil        Iron        Sat    Ferritin  Class  meld_score  \\\n",
       "160   0.335016  101.403671  49.040665  604.277108    1.0   -1.556233   \n",
       "161   2.300000   82.599618  25.974998  194.442225    0.0   11.052555   \n",
       "162  19.819333   24.268491   9.578649  473.166684    1.0    9.489553   \n",
       "163   1.082581   53.267156  22.226264  388.430047    0.0   12.429722   \n",
       "164  19.800000   27.790599   6.769031  163.570573    0.0   38.759910   \n",
       "\n",
       "     fib_score  \n",
       "160   0.001470  \n",
       "161   6.206492  \n",
       "162   0.001206  \n",
       "163   0.003164  \n",
       "164   0.001815  \n",
       "\n",
       "[5 rows x 52 columns]"
      ]
     },
     "execution_count": 64,
     "metadata": {},
     "output_type": "execute_result"
    }
   ],
   "source": [
    "### Created a function to compute patient FIB-4 scores and subsequently added a new column to hold these new values\n",
    "def fibxyz(w, x, y, z):  ##Fib-4 score formula uses age, AST(Aspartate transaminase), Plt (platelet), ALT (Alanine transaminase)\n",
    "    return (w*x)/(y*math.sqrt(z))\n",
    "\n",
    "hcc_data_filled['fib_score'] = hcc_data_filled.apply(lambda x: fibxyz(x['Age'], x['AST'], x['Platelets'], x['ALT']), axis=1)\n",
    "hcc_data_filled.tail()"
   ]
  },
  {
   "cell_type": "markdown",
   "metadata": {},
   "source": [
    "- ### Creating BCLC Score Feature"
   ]
  },
  {
   "cell_type": "markdown",
   "metadata": {},
   "source": []
  },
  {
   "cell_type": "markdown",
   "metadata": {},
   "source": [
    "- ### Class balancing via SMOTE (Synthetic Minority Over-sampling Technique)\n",
    "prior to SMOTE technique, X_train had 115 patient records, after SMOTE, X_train_res had 146 patient records"
   ]
  },
  {
   "cell_type": "code",
   "execution_count": 65,
   "metadata": {},
   "outputs": [
    {
     "name": "stdout",
     "output_type": "stream",
     "text": [
      "Number transactions X_train dataset:  (115, 51)\n",
      "Number transactions y_train dataset:  (115,)\n",
      "Number transactions X_test dataset:  (50, 51)\n",
      "Number transactions y_test dataset:  (50,)\n"
     ]
    }
   ],
   "source": [
    "from imblearn.over_sampling import SMOTE\n",
    "from sklearn.model_selection import train_test_split\n",
    "\n",
    "X= hcc_data_filled.drop([\"Class\"], axis=1)\n",
    "y = hcc_data_filled.Class\n",
    "\n",
    "\n",
    "X_train, X_test, y_train, y_test = train_test_split(X, y, test_size=0.3, random_state=0)\n",
    "\n",
    "print(\"Number transactions X_train dataset: \", X_train.shape)\n",
    "print(\"Number transactions y_train dataset: \", y_train.shape)\n",
    "print(\"Number transactions X_test dataset: \", X_test.shape)\n",
    "print(\"Number transactions y_test dataset: \", y_test.shape)"
   ]
  },
  {
   "cell_type": "code",
   "execution_count": 66,
   "metadata": {
    "scrolled": false
   },
   "outputs": [
    {
     "name": "stdout",
     "output_type": "stream",
     "text": [
      "Before OverSampling, counts of label '1': 73\n",
      "Before OverSampling, counts of label '0': 42 \n",
      "\n",
      "After OverSampling, the shape of train_X: (146, 51)\n",
      "After OverSampling, the shape of train_y: (146,) \n",
      "\n",
      "After OverSampling, counts of label '1': 73\n",
      "After OverSampling, counts of label '0': 73\n"
     ]
    }
   ],
   "source": [
    "print(\"Before OverSampling, counts of label '1': {}\".format(sum(y_train==1)))\n",
    "print(\"Before OverSampling, counts of label '0': {} \\n\".format(sum(y_train==0)))\n",
    "\n",
    "sm = SMOTE(random_state=2)\n",
    "X_train_res, y_train_res = sm.fit_sample(X_train, y_train.ravel())\n",
    "\n",
    "print('After OverSampling, the shape of train_X: {}'.format(X_train_res.shape))\n",
    "print('After OverSampling, the shape of train_y: {} \\n'.format(y_train_res.shape))\n",
    "\n",
    "print(\"After OverSampling, counts of label '1': {}\".format(sum(y_train_res==1)))\n",
    "print(\"After OverSampling, counts of label '0': {}\".format(sum(y_train_res==0)))"
   ]
  },
  {
   "cell_type": "markdown",
   "metadata": {},
   "source": [
    "- ### Grid Search"
   ]
  },
  {
   "cell_type": "markdown",
   "metadata": {},
   "source": [
    "Final model modifications: a grid search to optimize parameters and assign most appropriate penalty weight\n",
    "\n"
   ]
  },
  {
   "cell_type": "code",
   "execution_count": 67,
   "metadata": {},
   "outputs": [],
   "source": [
    "sc = StandardScaler()\n",
    "X_train_res = sc.fit_transform(X_train_res)\n",
    "X_test = sc.transform(X_test)"
   ]
  },
  {
   "cell_type": "code",
   "execution_count": 68,
   "metadata": {},
   "outputs": [
    {
     "data": {
      "text/plain": [
       "array([ 0.2       ,  1.28888889,  2.37777778,  3.46666667,  4.55555556,\n",
       "        5.64444444,  6.73333333,  7.82222222,  8.91111111, 10.        ])"
      ]
     },
     "execution_count": 68,
     "metadata": {},
     "output_type": "execute_result"
    }
   ],
   "source": [
    "np.linspace(0.2, 10, 10)"
   ]
  },
  {
   "cell_type": "code",
   "execution_count": 69,
   "metadata": {},
   "outputs": [
    {
     "name": "stdout",
     "output_type": "stream",
     "text": [
      "Fitting 5 folds for each of 500 candidates, totalling 2500 fits\n"
     ]
    },
    {
     "name": "stderr",
     "output_type": "stream",
     "text": [
      "[Parallel(n_jobs=5)]: Using backend LokyBackend with 5 concurrent workers.\n",
      "[Parallel(n_jobs=5)]: Done   8 tasks      | elapsed:    2.7s\n",
      "[Parallel(n_jobs=5)]: Done 170 tasks      | elapsed:    4.3s\n",
      "[Parallel(n_jobs=5)]: Done 890 tasks      | elapsed:    9.2s\n",
      "[Parallel(n_jobs=5)]: Done 1898 tasks      | elapsed:   17.5s\n",
      "[Parallel(n_jobs=5)]: Done 2500 out of 2500 | elapsed:   22.1s finished\n",
      "/Library/Frameworks/Python.framework/Versions/3.7/lib/python3.7/site-packages/sklearn/model_selection/_search.py:813: DeprecationWarning: The default of the `iid` parameter will change from True to False in version 0.22 and will be removed in 0.24. This will change numeric results when test-set sizes are unequal.\n",
      "  DeprecationWarning)\n",
      "/Library/Frameworks/Python.framework/Versions/3.7/lib/python3.7/site-packages/sklearn/linear_model/logistic.py:432: FutureWarning: Default solver will be changed to 'lbfgs' in 0.22. Specify a solver to silence this warning.\n",
      "  FutureWarning)\n"
     ]
    },
    {
     "data": {
      "text/plain": [
       "GridSearchCV(cv=5, error_score='raise-deprecating',\n",
       "             estimator=LogisticRegression(C=1.0, class_weight=None, dual=False,\n",
       "                                          fit_intercept=True,\n",
       "                                          intercept_scaling=1, l1_ratio=None,\n",
       "                                          max_iter=100, multi_class='warn',\n",
       "                                          n_jobs=None, penalty='l2',\n",
       "                                          random_state=None, solver='warn',\n",
       "                                          tol=0.0001, verbose=0,\n",
       "                                          warm_start=False),\n",
       "             iid='warn', n_jobs=5,\n",
       "             param_grid={'C': array([ 0.1       ,  0.139879...\n",
       "       19.04288577, 19.08276553, 19.12264529, 19.16252505, 19.20240481,\n",
       "       19.24228457, 19.28216433, 19.32204409, 19.36192385, 19.40180361,\n",
       "       19.44168337, 19.48156313, 19.52144289, 19.56132265, 19.6012024 ,\n",
       "       19.64108216, 19.68096192, 19.72084168, 19.76072144, 19.8006012 ,\n",
       "       19.84048096, 19.88036072, 19.92024048, 19.96012024, 20.        ])},\n",
       "             pre_dispatch='2*n_jobs', refit=True, return_train_score=False,\n",
       "             scoring=None, verbose=5)"
      ]
     },
     "execution_count": 69,
     "metadata": {},
     "output_type": "execute_result"
    }
   ],
   "source": [
    "np.random.seed(10)\n",
    "\n",
    "parameters = {\n",
    "    'C': np.linspace(0.1, 20, 500)\n",
    "             }\n",
    "lr = LogisticRegression()\n",
    "clf = GridSearchCV(lr, parameters, cv=5, verbose=5, n_jobs=5)\n",
    "clf.fit(X_train_res, y_train_res.ravel())"
   ]
  },
  {
   "cell_type": "code",
   "execution_count": 72,
   "metadata": {},
   "outputs": [
    {
     "data": {
      "text/plain": [
       "{'C': 0.3791583166332665}"
      ]
     },
     "execution_count": 72,
     "metadata": {},
     "output_type": "execute_result"
    }
   ],
   "source": [
    "clf.best_params_"
   ]
  },
  {
   "cell_type": "markdown",
   "metadata": {},
   "source": [
    "- ### Final Logistic Model \n"
   ]
  },
  {
   "cell_type": "markdown",
   "metadata": {},
   "source": [
    "Note: Data was already split into a training set and a test set when performing SMOTE technique "
   ]
  },
  {
   "cell_type": "code",
   "execution_count": 151,
   "metadata": {},
   "outputs": [
    {
     "name": "stderr",
     "output_type": "stream",
     "text": [
      "/Library/Frameworks/Python.framework/Versions/3.7/lib/python3.7/site-packages/sklearn/linear_model/logistic.py:432: FutureWarning: Default solver will be changed to 'lbfgs' in 0.22. Specify a solver to silence this warning.\n",
      "  FutureWarning)\n"
     ]
    },
    {
     "data": {
      "text/plain": [
       "LogisticRegression(C=1e-09, class_weight=None, dual=False, fit_intercept=True,\n",
       "                   intercept_scaling=1, l1_ratio=None, max_iter=100,\n",
       "                   multi_class='warn', n_jobs=None, penalty='l2',\n",
       "                   random_state=None, solver='warn', tol=0.01, verbose=0,\n",
       "                   warm_start=False)"
      ]
     },
     "execution_count": 151,
     "metadata": {},
     "output_type": "execute_result"
    }
   ],
   "source": [
    "\n",
    "logreg = LogisticRegression(C=0.000000001, class_weight=None, dual=False,\n",
    "                                          fit_intercept=True,\n",
    "                                          intercept_scaling=1, l1_ratio=None,\n",
    "                                          max_iter=100, multi_class='warn',\n",
    "                                          n_jobs=None, penalty='l2',\n",
    "                                          random_state=None, solver='warn',\n",
    "                                          tol=0.01, verbose=0,\n",
    "                                          warm_start=False)\n",
    "model_log = logreg.fit(X_train_res, y_train_res)\n",
    "model_log"
   ]
  },
  {
   "cell_type": "code",
   "execution_count": 152,
   "metadata": {},
   "outputs": [],
   "source": [
    "##run model with test data\n",
    "y_hat_test = logreg.predict(X_test)\n",
    "y_hat_train = logreg.predict(X_train_res)"
   ]
  },
  {
   "cell_type": "code",
   "execution_count": 153,
   "metadata": {
    "scrolled": true
   },
   "outputs": [
    {
     "name": "stdout",
     "output_type": "stream",
     "text": [
      " 0.0    115\n",
      " 1.0     16\n",
      "-1.0     15\n",
      "dtype: int64\n",
      " 0.0    0.787671\n",
      " 1.0    0.109589\n",
      "-1.0    0.102740\n",
      "dtype: float64\n"
     ]
    }
   ],
   "source": [
    "residuals = y_train_res - y_hat_train\n",
    "print(pd.Series(residuals).value_counts())\n",
    "print(pd.Series(residuals).value_counts(normalize=True))"
   ]
  },
  {
   "cell_type": "code",
   "execution_count": 154,
   "metadata": {},
   "outputs": [
    {
     "name": "stdout",
     "output_type": "stream",
     "text": [
      " 0.0    38\n",
      " 1.0     8\n",
      "-1.0     4\n",
      "Name: Class, dtype: int64\n",
      " 0.0    0.76\n",
      " 1.0    0.16\n",
      "-1.0    0.08\n",
      "Name: Class, dtype: float64\n"
     ]
    }
   ],
   "source": [
    "residuals = y_test - y_hat_test\n",
    "print(pd.Series(residuals).value_counts())\n",
    "print(pd.Series(residuals).value_counts(normalize=True))"
   ]
  },
  {
   "cell_type": "code",
   "execution_count": 155,
   "metadata": {
    "scrolled": true
   },
   "outputs": [
    {
     "name": "stdout",
     "output_type": "stream",
     "text": [
      "Training Precision:  0.7808219178082192\n",
      "Testing Precision:  0.7241379310344828\n",
      "\n",
      "\n",
      "\n",
      "Training Recall:  0.7916666666666666\n",
      "Testing Recall:  0.84\n",
      "\n",
      "\n",
      "\n",
      "Training Accuracy:  0.7876712328767124\n",
      "Testing Accuracy:  0.76\n",
      "\n",
      "\n",
      "\n",
      "Training F1-Score:  0.7862068965517242\n",
      "Testing F1-Score:  0.7777777777777777\n"
     ]
    }
   ],
   "source": [
    "print('Training Precision: ', precision_score(y_hat_train, y_train_res))\n",
    "print('Testing Precision: ', precision_score(y_hat_test, y_test))\n",
    "print('\\n\\n')\n",
    "\n",
    "print('Training Recall: ', recall_score(y_hat_train, y_train_res))\n",
    "print('Testing Recall: ', recall_score(y_hat_test, y_test))\n",
    "print('\\n\\n')\n",
    "\n",
    "print('Training Accuracy: ', accuracy_score(y_hat_train, y_train_res))\n",
    "print('Testing Accuracy: ', accuracy_score(y_hat_test, y_test))\n",
    "print('\\n\\n')\n",
    "\n",
    "print('Training F1-Score: ',f1_score(y_hat_train,y_train_res))\n",
    "print('Testing F1-Score: ',f1_score(y_hat_test,y_test))"
   ]
  },
  {
   "cell_type": "markdown",
   "metadata": {},
   "source": []
  },
  {
   "cell_type": "code",
   "execution_count": 156,
   "metadata": {},
   "outputs": [
    {
     "name": "stdout",
     "output_type": "stream",
     "text": [
      "Accuracy is :76.0\n"
     ]
    }
   ],
   "source": [
    "acc = accuracy_score(y_test,y_hat_test) * 100\n",
    "print(\"Accuracy is :{0}\".format(acc))"
   ]
  },
  {
   "cell_type": "markdown",
   "metadata": {},
   "source": [
    "            prediction                        \n",
    "               0       1                         \n",
    "             -----   -----                      \n",
    "          0 | TN   |  FP               \n",
    "    actual   -----   -----             \n",
    "          1 | FN   |  TP   "
   ]
  },
  {
   "cell_type": "code",
   "execution_count": 160,
   "metadata": {},
   "outputs": [
    {
     "name": "stdout",
     "output_type": "stream",
     "text": [
      "\n",
      "Confusion Matrix\n",
      "----------------\n"
     ]
    },
    {
     "data": {
      "text/html": [
       "<div>\n",
       "<style scoped>\n",
       "    .dataframe tbody tr th:only-of-type {\n",
       "        vertical-align: middle;\n",
       "    }\n",
       "\n",
       "    .dataframe tbody tr th {\n",
       "        vertical-align: top;\n",
       "    }\n",
       "\n",
       "    .dataframe thead th {\n",
       "        text-align: right;\n",
       "    }\n",
       "</style>\n",
       "<table border=\"1\" class=\"dataframe\">\n",
       "  <thead>\n",
       "    <tr style=\"text-align: right;\">\n",
       "      <th>Predicted</th>\n",
       "      <th>0.0</th>\n",
       "      <th>1.0</th>\n",
       "      <th>All</th>\n",
       "    </tr>\n",
       "    <tr>\n",
       "      <th>True</th>\n",
       "      <th></th>\n",
       "      <th></th>\n",
       "      <th></th>\n",
       "    </tr>\n",
       "  </thead>\n",
       "  <tbody>\n",
       "    <tr>\n",
       "      <th>0.0</th>\n",
       "      <td>17</td>\n",
       "      <td>4</td>\n",
       "      <td>21</td>\n",
       "    </tr>\n",
       "    <tr>\n",
       "      <th>1.0</th>\n",
       "      <td>8</td>\n",
       "      <td>21</td>\n",
       "      <td>29</td>\n",
       "    </tr>\n",
       "    <tr>\n",
       "      <th>All</th>\n",
       "      <td>25</td>\n",
       "      <td>25</td>\n",
       "      <td>50</td>\n",
       "    </tr>\n",
       "  </tbody>\n",
       "</table>\n",
       "</div>"
      ],
      "text/plain": [
       "Predicted  0.0  1.0  All\n",
       "True                    \n",
       "0.0         17    4   21\n",
       "1.0          8   21   29\n",
       "All         25   25   50"
      ]
     },
     "execution_count": 160,
     "metadata": {},
     "output_type": "execute_result"
    }
   ],
   "source": [
    "## confusion matrix\n",
    "print('\\nConfusion Matrix')\n",
    "print('----------------')\n",
    "pd.crosstab(y_test, y_hat_test, rownames=['True'], colnames=['Predicted'], margins=True)"
   ]
  },
  {
   "cell_type": "code",
   "execution_count": 169,
   "metadata": {},
   "outputs": [],
   "source": [
    "# Your code here\n",
    "from sklearn.metrics import roc_curve, auc\n",
    "\n",
    "#for various decision boundaries given the case member probabilites\n",
    "\n",
    "#First calculate the probability scores of each of the datapoints:\n",
    "y_score = model_log.decision_function(X_test)\n",
    "   \n",
    "fpr, tpr, thresholds = roc_curve(y_test, y_score)\n",
    "\n",
    "y_train_score = model_log.decision_function(X_train_res)\n",
    "train_fpr, train_tpr, thresholds = roc_curve(y_train_res, y_train_score)"
   ]
  },
  {
   "cell_type": "code",
   "execution_count": 170,
   "metadata": {},
   "outputs": [
    {
     "name": "stdout",
     "output_type": "stream",
     "text": [
      "AUC: 0.7931034482758622\n"
     ]
    },
    {
     "data": {
      "image/png": "[encoded data removed]",
      "text/plain": [
       "<Figure size 720x576 with 1 Axes>"
      ]
     },
     "metadata": {},
     "output_type": "display_data"
    }
   ],
   "source": [
    "import matplotlib.pyplot as plt\n",
    "import seaborn as sns\n",
    "%matplotlib inline\n",
    "\n",
    "#Seaborns Beautiful Styling\n",
    "sns.set_style(\"darkgrid\", {\"axes.facecolor\": \".9\"})\n",
    "\n",
    "plt.figure(figsize=(10,8))\n",
    "lw = 2\n",
    "plt.plot(fpr, tpr, color='darkorange',\n",
    "         lw=lw, label='ROC curve')\n",
    "plt.plot([0, 1], [0, 1], color='navy', lw=lw, linestyle='--')\n",
    "plt.xlim([0.0, 1.0])\n",
    "plt.ylim([0.0, 1.05])\n",
    "plt.yticks([i/20.0 for i in range(21)])\n",
    "plt.xticks([i/20.0 for i in range(21)])\n",
    "plt.xlabel('False Positive Rate')\n",
    "plt.ylabel('True Positive Rate')\n",
    "plt.title('Receiver operating characteristic (ROC) Curve for Test Set')\n",
    "plt.legend(loc=\"lower right\")\n",
    "print('AUC: {}'.format(auc(fpr, tpr)))\n",
    "plt.show()"
   ]
  },
  {
   "cell_type": "markdown",
   "metadata": {},
   "source": []
  },
  {
   "cell_type": "markdown",
   "metadata": {},
   "source": [
    "- ## Conclusions"
   ]
  },
  {
   "cell_type": "code",
   "execution_count": null,
   "metadata": {},
   "outputs": [],
   "source": []
  },
  {
   "cell_type": "code",
   "execution_count": null,
   "metadata": {},
   "outputs": [],
   "source": []
  }
 ],
 "metadata": {
  "kernelspec": {
   "display_name": "Python 3",
   "language": "python",
   "name": "python3"
  },
  "language_info": {
   "codemirror_mode": {
    "name": "ipython",
    "version": 3
   },
   "file_extension": ".py",
   "mimetype": "text/x-python",
   "name": "python",
   "nbconvert_exporter": "python",
   "pygments_lexer": "ipython3",
   "version": "3.7.4"
  }
 },
 "nbformat": 4,
 "nbformat_minor": 2
}
